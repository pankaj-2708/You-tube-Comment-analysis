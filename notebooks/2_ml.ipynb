{
 "cells": [
  {
   "cell_type": "code",
   "execution_count": 1,
   "id": "cd67537e-45b1-4223-aa27-a99cf8c3adde",
   "metadata": {},
   "outputs": [
    {
     "ename": "ModuleNotFoundError",
     "evalue": "No module named 'sklearn'",
     "output_type": "error",
     "traceback": [
      "\u001b[1;31m---------------------------------------------------------------------------\u001b[0m",
      "\u001b[1;31mModuleNotFoundError\u001b[0m                       Traceback (most recent call last)",
      "Cell \u001b[1;32mIn[1], line 2\u001b[0m\n\u001b[0;32m      1\u001b[0m \u001b[38;5;28;01mimport\u001b[39;00m\u001b[38;5;250m \u001b[39m\u001b[38;5;21;01mpandas\u001b[39;00m\u001b[38;5;250m \u001b[39m\u001b[38;5;28;01mas\u001b[39;00m\u001b[38;5;250m \u001b[39m\u001b[38;5;21;01mpd\u001b[39;00m\n\u001b[1;32m----> 2\u001b[0m \u001b[38;5;28;01mfrom\u001b[39;00m\u001b[38;5;250m \u001b[39m\u001b[38;5;21;01msklearn\u001b[39;00m\u001b[38;5;21;01m.\u001b[39;00m\u001b[38;5;21;01mensemble\u001b[39;00m\u001b[38;5;250m \u001b[39m\u001b[38;5;28;01mimport\u001b[39;00m RandomForestClassifier,GradientBoostingClassifier\n\u001b[0;32m      3\u001b[0m \u001b[38;5;28;01mfrom\u001b[39;00m\u001b[38;5;250m \u001b[39m\u001b[38;5;21;01msklearn\u001b[39;00m\u001b[38;5;21;01m.\u001b[39;00m\u001b[38;5;21;01mtree\u001b[39;00m\u001b[38;5;250m \u001b[39m\u001b[38;5;28;01mimport\u001b[39;00m DecisionTreeClassifier\n\u001b[0;32m      4\u001b[0m \u001b[38;5;28;01mfrom\u001b[39;00m\u001b[38;5;250m \u001b[39m\u001b[38;5;21;01msklearn\u001b[39;00m\u001b[38;5;21;01m.\u001b[39;00m\u001b[38;5;21;01mtree\u001b[39;00m\u001b[38;5;250m \u001b[39m\u001b[38;5;28;01mimport\u001b[39;00m plot_tree\n",
      "\u001b[1;31mModuleNotFoundError\u001b[0m: No module named 'sklearn'"
     ]
    }
   ],
   "source": [
    "import pandas as pd\n",
    "from sklearn.ensemble import RandomForestClassifier,GradientBoostingClassifier\n",
    "from sklearn.tree import DecisionTreeClassifier\n",
    "from sklearn.tree import plot_tree\n",
    "from sklearn.svm import SVC\n",
    "from lightgbm import LGBMClassifier\n",
    "from sklearn.metrics import accuracy_score,confusion_matrix\n",
    "from sklearn.model_selection import cross_val_score\n",
    "import plotly.express as px\n",
    "import numpy as np"
   ]
  },
  {
   "cell_type": "code",
   "execution_count": 2,
   "id": "a60065d4-cd51-4b6f-ae60-1c4c561f0a1f",
   "metadata": {},
   "outputs": [
    {
     "data": {
      "text/html": [
       "<pre style=\"white-space:pre;overflow-x:auto;line-height:normal;font-family:Menlo,'DejaVu Sans Mono',consolas,'Courier New',monospace\">Accessing as pankaj-<span style=\"color: #008080; text-decoration-color: #008080; font-weight: bold\">2708</span>\n",
       "</pre>\n"
      ],
      "text/plain": [
       "Accessing as pankaj-\u001b[1;36m2708\u001b[0m\n"
      ]
     },
     "metadata": {},
     "output_type": "display_data"
    },
    {
     "data": {
      "text/html": [
       "<pre style=\"white-space:pre;overflow-x:auto;line-height:normal;font-family:Menlo,'DejaVu Sans Mono',consolas,'Courier New',monospace\">Initialized MLflow to track repo <span style=\"color: #008000; text-decoration-color: #008000\">\"pankaj-2708/You-tube-Comment-analysis\"</span>\n",
       "</pre>\n"
      ],
      "text/plain": [
       "Initialized MLflow to track repo \u001b[32m\"pankaj-2708/You-tube-Comment-analysis\"\u001b[0m\n"
      ]
     },
     "metadata": {},
     "output_type": "display_data"
    },
    {
     "data": {
      "text/html": [
       "<pre style=\"white-space:pre;overflow-x:auto;line-height:normal;font-family:Menlo,'DejaVu Sans Mono',consolas,'Courier New',monospace\">Repository pankaj-<span style=\"color: #008080; text-decoration-color: #008080; font-weight: bold\">2708</span>/You-tube-Comment-analysis initialized!\n",
       "</pre>\n"
      ],
      "text/plain": [
       "Repository pankaj-\u001b[1;36m2708\u001b[0m/You-tube-Comment-analysis initialized!\n"
      ]
     },
     "metadata": {},
     "output_type": "display_data"
    }
   ],
   "source": [
    "import dagshub\n",
    "import mlflow\n",
    "dagshub.init(repo_owner='pankaj-2708', repo_name='You-tube-Comment-analysis', mlflow=True)"
   ]
  },
  {
   "cell_type": "code",
   "execution_count": 12,
   "id": "d1a23227-d637-447a-bb64-8c20a008a1c7",
   "metadata": {},
   "outputs": [
    {
     "name": "stderr",
     "output_type": "stream",
     "text": [
      "2025/09/30 18:02:19 INFO mlflow.tracking.fluent: Experiment with name 'jupyter-lab' does not exist. Creating a new experiment.\n"
     ]
    },
    {
     "data": {
      "text/plain": [
       "<Experiment: artifact_location='mlflow-artifacts:/c4c3e8dd03694821a998d8d0b10c59d4', creation_time=1759235536530, experiment_id='1', last_update_time=1759235536530, lifecycle_stage='active', name='jupyter-lab', tags={}>"
      ]
     },
     "execution_count": 12,
     "metadata": {},
     "output_type": "execute_result"
    }
   ],
   "source": [
    "mlflow.set_experiment(\"jupyter-lab\")"
   ]
  },
  {
   "cell_type": "code",
   "execution_count": 3,
   "id": "da330233-e02c-4f2a-a3d4-7b389cfddda0",
   "metadata": {
    "scrolled": true
   },
   "outputs": [],
   "source": [
    "train=pd.read_csv(\"../data/train_test_split/train.csv\")\n",
    "test=pd.read_csv(\"../data/train_test_split/test.csv\")\n",
    "X=train.drop(columns=['lb__Sentiment'])\n",
    "y=train['lb__Sentiment']\n",
    "test_X=test.drop(columns=['lb__Sentiment'])\n",
    "test_y=test['lb__Sentiment']"
   ]
  },
  {
   "cell_type": "code",
   "execution_count": 30,
   "id": "d260a327-9629-4428-8d2b-cc40115adbf7",
   "metadata": {},
   "outputs": [
    {
     "data": {
      "text/plain": [
       "(14298, 2008)"
      ]
     },
     "execution_count": 30,
     "metadata": {},
     "output_type": "execute_result"
    }
   ],
   "source": [
    "X.shape"
   ]
  },
  {
   "cell_type": "code",
   "execution_count": 31,
   "id": "091f06e9-9975-4a15-bac7-19108d162d33",
   "metadata": {
    "scrolled": true
   },
   "outputs": [
    {
     "data": {
      "text/plain": [
       "0.7205594405594405"
      ]
     },
     "execution_count": 31,
     "metadata": {},
     "output_type": "execute_result"
    }
   ],
   "source": [
    "from sklearn.naive_bayes import BernoulliNB\n",
    "des=BernoulliNB()\n",
    "des.fit(X,y)\n",
    "y_pred=des.predict(test_X)\n",
    "accuracy_score(y_pred,test_y)"
   ]
  },
  {
   "cell_type": "code",
   "execution_count": 15,
   "id": "8707c732-7923-4541-ab95-cc68f8dea13f",
   "metadata": {},
   "outputs": [
    {
     "data": {
      "text/plain": [
       "0.6643356643356644"
      ]
     },
     "execution_count": 15,
     "metadata": {},
     "output_type": "execute_result"
    }
   ],
   "source": [
    "des=DecisionTreeClassifier(max_depth=6)\n",
    "des.fit(X,y)\n",
    "y_pred=des.predict(test_X)\n",
    "accuracy_score(y_pred,test_y)"
   ]
  },
  {
   "cell_type": "code",
   "execution_count": 5,
   "id": "69c8468e-e440-4270-8822-c2db66c37b07",
   "metadata": {},
   "outputs": [],
   "source": [
    "# from dtreeviz.trees import *\n",
    "# from IPython.display import Image, display_svg, SVG\n",
    "# import graphviz.backend as be\n",
    "\n",
    "# viz = dtreeviz(clas, \n",
    "#                X,\n",
    "#                y,\n",
    "#                feature_names=X.feature_names, \n",
    "#                class_names=['negative', 'neutral', 'positive'])\n",
    "# viz"
   ]
  },
  {
   "cell_type": "code",
   "execution_count": 6,
   "id": "1294194e-a2e6-4adf-9e99-8ed5cc9e1937",
   "metadata": {},
   "outputs": [],
   "source": [
    "import plotly.io as pio\n",
    "pio.renderers.default = \"notebook\" "
   ]
  },
  {
   "cell_type": "code",
   "execution_count": 11,
   "id": "9238e6a3-4981-4e9a-ac03-4a064f3ef854",
   "metadata": {},
   "outputs": [
    {
     "data": {
      "text/html": [
       "<div>            <script src=\"https://cdnjs.cloudflare.com/ajax/libs/mathjax/2.7.5/MathJax.js?config=TeX-AMS-MML_SVG\"></script><script type=\"text/javascript\">if (window.MathJax && window.MathJax.Hub && window.MathJax.Hub.Config) {window.MathJax.Hub.Config({SVG: {font: \"STIX-Web\"}});}</script>                    <div id=\"3fd0c115-5389-4b01-96fe-40fcb0645164\" class=\"plotly-graph-div\" style=\"height:525px; width:100%;\"></div>            <script type=\"text/javascript\">                window.PLOTLYENV=window.PLOTLYENV || {};                                if (document.getElementById(\"3fd0c115-5389-4b01-96fe-40fcb0645164\")) {                    Plotly.newPlot(                        \"3fd0c115-5389-4b01-96fe-40fcb0645164\",                        [{\"hovertemplate\":\"x=%{x}\\u003cbr\\u003ey=%{y}\\u003cextra\\u003e\\u003c\\u002fextra\\u003e\",\"legendgroup\":\"\",\"marker\":{\"color\":\"#636efa\",\"pattern\":{\"shape\":\"\"}},\"name\":\"\",\"orientation\":\"h\",\"showlegend\":false,\"textposition\":\"auto\",\"x\":[54.71213161735653,12.755801820279519,9.768418999403107,7.430192430758957,5.042356657909977,4.145805215497851,1.976840799432968,1.211478225797199,0.479558601499787,0.4272450787286458],\"xaxis\":\"x\",\"y\":[\"std__PositiveWordCount\",\"std__comment_len\",\"std__stopword_count\",\"remainder__like\",\"std__NegativeWordCount\",\"remainder__good\",\"remainder__appreci\",\"remainder__thank\",\"remainder__never\",\"remainder__enjoy\"],\"yaxis\":\"y\",\"type\":\"bar\"}],                        {\"template\":{\"data\":{\"histogram2dcontour\":[{\"type\":\"histogram2dcontour\",\"colorbar\":{\"outlinewidth\":0,\"ticks\":\"\"},\"colorscale\":[[0.0,\"#0d0887\"],[0.1111111111111111,\"#46039f\"],[0.2222222222222222,\"#7201a8\"],[0.3333333333333333,\"#9c179e\"],[0.4444444444444444,\"#bd3786\"],[0.5555555555555556,\"#d8576b\"],[0.6666666666666666,\"#ed7953\"],[0.7777777777777778,\"#fb9f3a\"],[0.8888888888888888,\"#fdca26\"],[1.0,\"#f0f921\"]]}],\"choropleth\":[{\"type\":\"choropleth\",\"colorbar\":{\"outlinewidth\":0,\"ticks\":\"\"}}],\"histogram2d\":[{\"type\":\"histogram2d\",\"colorbar\":{\"outlinewidth\":0,\"ticks\":\"\"},\"colorscale\":[[0.0,\"#0d0887\"],[0.1111111111111111,\"#46039f\"],[0.2222222222222222,\"#7201a8\"],[0.3333333333333333,\"#9c179e\"],[0.4444444444444444,\"#bd3786\"],[0.5555555555555556,\"#d8576b\"],[0.6666666666666666,\"#ed7953\"],[0.7777777777777778,\"#fb9f3a\"],[0.8888888888888888,\"#fdca26\"],[1.0,\"#f0f921\"]]}],\"heatmap\":[{\"type\":\"heatmap\",\"colorbar\":{\"outlinewidth\":0,\"ticks\":\"\"},\"colorscale\":[[0.0,\"#0d0887\"],[0.1111111111111111,\"#46039f\"],[0.2222222222222222,\"#7201a8\"],[0.3333333333333333,\"#9c179e\"],[0.4444444444444444,\"#bd3786\"],[0.5555555555555556,\"#d8576b\"],[0.6666666666666666,\"#ed7953\"],[0.7777777777777778,\"#fb9f3a\"],[0.8888888888888888,\"#fdca26\"],[1.0,\"#f0f921\"]]}],\"contourcarpet\":[{\"type\":\"contourcarpet\",\"colorbar\":{\"outlinewidth\":0,\"ticks\":\"\"}}],\"contour\":[{\"type\":\"contour\",\"colorbar\":{\"outlinewidth\":0,\"ticks\":\"\"},\"colorscale\":[[0.0,\"#0d0887\"],[0.1111111111111111,\"#46039f\"],[0.2222222222222222,\"#7201a8\"],[0.3333333333333333,\"#9c179e\"],[0.4444444444444444,\"#bd3786\"],[0.5555555555555556,\"#d8576b\"],[0.6666666666666666,\"#ed7953\"],[0.7777777777777778,\"#fb9f3a\"],[0.8888888888888888,\"#fdca26\"],[1.0,\"#f0f921\"]]}],\"surface\":[{\"type\":\"surface\",\"colorbar\":{\"outlinewidth\":0,\"ticks\":\"\"},\"colorscale\":[[0.0,\"#0d0887\"],[0.1111111111111111,\"#46039f\"],[0.2222222222222222,\"#7201a8\"],[0.3333333333333333,\"#9c179e\"],[0.4444444444444444,\"#bd3786\"],[0.5555555555555556,\"#d8576b\"],[0.6666666666666666,\"#ed7953\"],[0.7777777777777778,\"#fb9f3a\"],[0.8888888888888888,\"#fdca26\"],[1.0,\"#f0f921\"]]}],\"mesh3d\":[{\"type\":\"mesh3d\",\"colorbar\":{\"outlinewidth\":0,\"ticks\":\"\"}}],\"scatter\":[{\"fillpattern\":{\"fillmode\":\"overlay\",\"size\":10,\"solidity\":0.2},\"type\":\"scatter\"}],\"parcoords\":[{\"type\":\"parcoords\",\"line\":{\"colorbar\":{\"outlinewidth\":0,\"ticks\":\"\"}}}],\"scatterpolargl\":[{\"type\":\"scatterpolargl\",\"marker\":{\"colorbar\":{\"outlinewidth\":0,\"ticks\":\"\"}}}],\"bar\":[{\"error_x\":{\"color\":\"#2a3f5f\"},\"error_y\":{\"color\":\"#2a3f5f\"},\"marker\":{\"line\":{\"color\":\"#E5ECF6\",\"width\":0.5},\"pattern\":{\"fillmode\":\"overlay\",\"size\":10,\"solidity\":0.2}},\"type\":\"bar\"}],\"scattergeo\":[{\"type\":\"scattergeo\",\"marker\":{\"colorbar\":{\"outlinewidth\":0,\"ticks\":\"\"}}}],\"scatterpolar\":[{\"type\":\"scatterpolar\",\"marker\":{\"colorbar\":{\"outlinewidth\":0,\"ticks\":\"\"}}}],\"histogram\":[{\"marker\":{\"pattern\":{\"fillmode\":\"overlay\",\"size\":10,\"solidity\":0.2}},\"type\":\"histogram\"}],\"scattergl\":[{\"type\":\"scattergl\",\"marker\":{\"colorbar\":{\"outlinewidth\":0,\"ticks\":\"\"}}}],\"scatter3d\":[{\"type\":\"scatter3d\",\"line\":{\"colorbar\":{\"outlinewidth\":0,\"ticks\":\"\"}},\"marker\":{\"colorbar\":{\"outlinewidth\":0,\"ticks\":\"\"}}}],\"scattermap\":[{\"type\":\"scattermap\",\"marker\":{\"colorbar\":{\"outlinewidth\":0,\"ticks\":\"\"}}}],\"scattermapbox\":[{\"type\":\"scattermapbox\",\"marker\":{\"colorbar\":{\"outlinewidth\":0,\"ticks\":\"\"}}}],\"scatterternary\":[{\"type\":\"scatterternary\",\"marker\":{\"colorbar\":{\"outlinewidth\":0,\"ticks\":\"\"}}}],\"scattercarpet\":[{\"type\":\"scattercarpet\",\"marker\":{\"colorbar\":{\"outlinewidth\":0,\"ticks\":\"\"}}}],\"carpet\":[{\"aaxis\":{\"endlinecolor\":\"#2a3f5f\",\"gridcolor\":\"white\",\"linecolor\":\"white\",\"minorgridcolor\":\"white\",\"startlinecolor\":\"#2a3f5f\"},\"baxis\":{\"endlinecolor\":\"#2a3f5f\",\"gridcolor\":\"white\",\"linecolor\":\"white\",\"minorgridcolor\":\"white\",\"startlinecolor\":\"#2a3f5f\"},\"type\":\"carpet\"}],\"table\":[{\"cells\":{\"fill\":{\"color\":\"#EBF0F8\"},\"line\":{\"color\":\"white\"}},\"header\":{\"fill\":{\"color\":\"#C8D4E3\"},\"line\":{\"color\":\"white\"}},\"type\":\"table\"}],\"barpolar\":[{\"marker\":{\"line\":{\"color\":\"#E5ECF6\",\"width\":0.5},\"pattern\":{\"fillmode\":\"overlay\",\"size\":10,\"solidity\":0.2}},\"type\":\"barpolar\"}],\"pie\":[{\"automargin\":true,\"type\":\"pie\"}]},\"layout\":{\"autotypenumbers\":\"strict\",\"colorway\":[\"#636efa\",\"#EF553B\",\"#00cc96\",\"#ab63fa\",\"#FFA15A\",\"#19d3f3\",\"#FF6692\",\"#B6E880\",\"#FF97FF\",\"#FECB52\"],\"font\":{\"color\":\"#2a3f5f\"},\"hovermode\":\"closest\",\"hoverlabel\":{\"align\":\"left\"},\"paper_bgcolor\":\"white\",\"plot_bgcolor\":\"#E5ECF6\",\"polar\":{\"bgcolor\":\"#E5ECF6\",\"angularaxis\":{\"gridcolor\":\"white\",\"linecolor\":\"white\",\"ticks\":\"\"},\"radialaxis\":{\"gridcolor\":\"white\",\"linecolor\":\"white\",\"ticks\":\"\"}},\"ternary\":{\"bgcolor\":\"#E5ECF6\",\"aaxis\":{\"gridcolor\":\"white\",\"linecolor\":\"white\",\"ticks\":\"\"},\"baxis\":{\"gridcolor\":\"white\",\"linecolor\":\"white\",\"ticks\":\"\"},\"caxis\":{\"gridcolor\":\"white\",\"linecolor\":\"white\",\"ticks\":\"\"}},\"coloraxis\":{\"colorbar\":{\"outlinewidth\":0,\"ticks\":\"\"}},\"colorscale\":{\"sequential\":[[0.0,\"#0d0887\"],[0.1111111111111111,\"#46039f\"],[0.2222222222222222,\"#7201a8\"],[0.3333333333333333,\"#9c179e\"],[0.4444444444444444,\"#bd3786\"],[0.5555555555555556,\"#d8576b\"],[0.6666666666666666,\"#ed7953\"],[0.7777777777777778,\"#fb9f3a\"],[0.8888888888888888,\"#fdca26\"],[1.0,\"#f0f921\"]],\"sequentialminus\":[[0.0,\"#0d0887\"],[0.1111111111111111,\"#46039f\"],[0.2222222222222222,\"#7201a8\"],[0.3333333333333333,\"#9c179e\"],[0.4444444444444444,\"#bd3786\"],[0.5555555555555556,\"#d8576b\"],[0.6666666666666666,\"#ed7953\"],[0.7777777777777778,\"#fb9f3a\"],[0.8888888888888888,\"#fdca26\"],[1.0,\"#f0f921\"]],\"diverging\":[[0,\"#8e0152\"],[0.1,\"#c51b7d\"],[0.2,\"#de77ae\"],[0.3,\"#f1b6da\"],[0.4,\"#fde0ef\"],[0.5,\"#f7f7f7\"],[0.6,\"#e6f5d0\"],[0.7,\"#b8e186\"],[0.8,\"#7fbc41\"],[0.9,\"#4d9221\"],[1,\"#276419\"]]},\"xaxis\":{\"gridcolor\":\"white\",\"linecolor\":\"white\",\"ticks\":\"\",\"title\":{\"standoff\":15},\"zerolinecolor\":\"white\",\"automargin\":true,\"zerolinewidth\":2},\"yaxis\":{\"gridcolor\":\"white\",\"linecolor\":\"white\",\"ticks\":\"\",\"title\":{\"standoff\":15},\"zerolinecolor\":\"white\",\"automargin\":true,\"zerolinewidth\":2},\"scene\":{\"xaxis\":{\"backgroundcolor\":\"#E5ECF6\",\"gridcolor\":\"white\",\"linecolor\":\"white\",\"showbackground\":true,\"ticks\":\"\",\"zerolinecolor\":\"white\",\"gridwidth\":2},\"yaxis\":{\"backgroundcolor\":\"#E5ECF6\",\"gridcolor\":\"white\",\"linecolor\":\"white\",\"showbackground\":true,\"ticks\":\"\",\"zerolinecolor\":\"white\",\"gridwidth\":2},\"zaxis\":{\"backgroundcolor\":\"#E5ECF6\",\"gridcolor\":\"white\",\"linecolor\":\"white\",\"showbackground\":true,\"ticks\":\"\",\"zerolinecolor\":\"white\",\"gridwidth\":2}},\"shapedefaults\":{\"line\":{\"color\":\"#2a3f5f\"}},\"annotationdefaults\":{\"arrowcolor\":\"#2a3f5f\",\"arrowhead\":0,\"arrowwidth\":1},\"geo\":{\"bgcolor\":\"white\",\"landcolor\":\"#E5ECF6\",\"subunitcolor\":\"white\",\"showland\":true,\"showlakes\":true,\"lakecolor\":\"white\"},\"title\":{\"x\":0.05},\"mapbox\":{\"style\":\"light\"}}},\"xaxis\":{\"anchor\":\"y\",\"domain\":[0.0,1.0],\"title\":{\"text\":\"x\"}},\"yaxis\":{\"anchor\":\"x\",\"domain\":[0.0,1.0],\"title\":{\"text\":\"y\"}},\"legend\":{\"tracegroupgap\":0},\"margin\":{\"t\":60},\"barmode\":\"relative\"},                        {\"responsive\": true}                    ).then(function(){\n",
       "                            \n",
       "var gd = document.getElementById('3fd0c115-5389-4b01-96fe-40fcb0645164');\n",
       "var x = new MutationObserver(function (mutations, observer) {{\n",
       "        var display = window.getComputedStyle(gd).display;\n",
       "        if (!display || display === 'none') {{\n",
       "            console.log([gd, 'removed!']);\n",
       "            Plotly.purge(gd);\n",
       "            observer.disconnect();\n",
       "        }}\n",
       "}});\n",
       "\n",
       "// Listen for the removal of the full notebook cells\n",
       "var notebookContainer = gd.closest('#notebook-container');\n",
       "if (notebookContainer) {{\n",
       "    x.observe(notebookContainer, {childList: true});\n",
       "}}\n",
       "\n",
       "// Listen for the clearing of the current output cell\n",
       "var outputEl = gd.closest('.output');\n",
       "if (outputEl) {{\n",
       "    x.observe(outputEl, {childList: true});\n",
       "}}\n",
       "\n",
       "                        })                };            </script>        </div>"
      ]
     },
     "metadata": {},
     "output_type": "display_data"
    }
   ],
   "source": [
    "feature_imp=pd.DataFrame(np.hstack((des.feature_importances_.reshape(len(des.feature_names_in_),1),des.feature_names_in_.reshape(len(des.feature_names_in_),1))),columns=['importance','name'])\n",
    "feature_imp_sorted=feature_imp.sort_values(by=\"importance\",ascending=False)\n",
    "feature_imp_sorted=feature_imp_sorted.head(10)\n",
    "px.bar(x=feature_imp_sorted[\"importance\"]*100,y=feature_imp_sorted['name'],orientation='h')"
   ]
  },
  {
   "cell_type": "code",
   "execution_count": 46,
   "id": "0d9235ee-c1c8-426a-945e-2f1fdac070a7",
   "metadata": {},
   "outputs": [
    {
     "data": {
      "text/html": [
       "<div>\n",
       "<style scoped>\n",
       "    .dataframe tbody tr th:only-of-type {\n",
       "        vertical-align: middle;\n",
       "    }\n",
       "\n",
       "    .dataframe tbody tr th {\n",
       "        vertical-align: top;\n",
       "    }\n",
       "\n",
       "    .dataframe thead th {\n",
       "        text-align: right;\n",
       "    }\n",
       "</style>\n",
       "<table border=\"1\" class=\"dataframe\">\n",
       "  <thead>\n",
       "    <tr style=\"text-align: right;\">\n",
       "      <th></th>\n",
       "      <th>importance</th>\n",
       "      <th>name</th>\n",
       "    </tr>\n",
       "  </thead>\n",
       "  <tbody>\n",
       "    <tr>\n",
       "      <th>5</th>\n",
       "      <td>0.547121</td>\n",
       "      <td>std__PositiveWordCount</td>\n",
       "    </tr>\n",
       "    <tr>\n",
       "      <th>0</th>\n",
       "      <td>0.131541</td>\n",
       "      <td>std__comment_len</td>\n",
       "    </tr>\n",
       "    <tr>\n",
       "      <th>4</th>\n",
       "      <td>0.097684</td>\n",
       "      <td>std__stopword_count</td>\n",
       "    </tr>\n",
       "    <tr>\n",
       "      <th>255</th>\n",
       "      <td>0.074302</td>\n",
       "      <td>remainder__like</td>\n",
       "    </tr>\n",
       "    <tr>\n",
       "      <th>6</th>\n",
       "      <td>0.050424</td>\n",
       "      <td>std__NegativeWordCount</td>\n",
       "    </tr>\n",
       "    <tr>\n",
       "      <th>187</th>\n",
       "      <td>0.041458</td>\n",
       "      <td>remainder__good</td>\n",
       "    </tr>\n",
       "    <tr>\n",
       "      <th>33</th>\n",
       "      <td>0.019768</td>\n",
       "      <td>remainder__appreci</td>\n",
       "    </tr>\n",
       "    <tr>\n",
       "      <th>441</th>\n",
       "      <td>0.012115</td>\n",
       "      <td>remainder__thank</td>\n",
       "    </tr>\n",
       "    <tr>\n",
       "      <th>305</th>\n",
       "      <td>0.004796</td>\n",
       "      <td>remainder__never</td>\n",
       "    </tr>\n",
       "    <tr>\n",
       "      <th>129</th>\n",
       "      <td>0.004272</td>\n",
       "      <td>remainder__enjoy</td>\n",
       "    </tr>\n",
       "  </tbody>\n",
       "</table>\n",
       "</div>"
      ],
      "text/plain": [
       "    importance                    name\n",
       "5     0.547121  std__PositiveWordCount\n",
       "0     0.131541        std__comment_len\n",
       "4     0.097684     std__stopword_count\n",
       "255   0.074302         remainder__like\n",
       "6     0.050424  std__NegativeWordCount\n",
       "187   0.041458         remainder__good\n",
       "33    0.019768      remainder__appreci\n",
       "441   0.012115        remainder__thank\n",
       "305   0.004796        remainder__never\n",
       "129   0.004272        remainder__enjoy"
      ]
     },
     "execution_count": 46,
     "metadata": {},
     "output_type": "execute_result"
    }
   ],
   "source": [
    "feature_imp_sorted"
   ]
  },
  {
   "cell_type": "code",
   "execution_count": 17,
   "id": "f9c3e9c6-963d-406a-8271-2db0c85d48ad",
   "metadata": {},
   "outputs": [
    {
     "name": "stdout",
     "output_type": "stream",
     "text": [
      "🏃 View run angry-lamb-868 at: https://dagshub.com/pankaj-2708/You-tube-Comment-analysis.mlflow/#/experiments/1/runs/554dc7a53344407aadc60f19fd4a8610\n",
      "🧪 View experiment at: https://dagshub.com/pankaj-2708/You-tube-Comment-analysis.mlflow/#/experiments/1\n"
     ]
    }
   ],
   "source": [
    "with mlflow.start_run():\n",
    "    mlflow.log_param(\"model\", \"descison tree\")\n",
    "    mlflow.log_param(\"max_depth\", \"6\")\n",
    "    model_ = DecisionTreeClassifier(max_depth=6)\n",
    "\n",
    "    model_.fit(X, y)\n",
    "    pred_y = model_.predict(test_X)\n",
    "\n",
    "    mlflow.log_metric(\"accuracy\", accuracy_score(test_y, pred_y))"
   ]
  },
  {
   "cell_type": "code",
   "execution_count": 32,
   "id": "63e85163-433a-4b90-bed9-e19131fb5c35",
   "metadata": {},
   "outputs": [],
   "source": [
    "# PCA\n",
    "from sklearn.decomposition import PCA\n",
    "pc=PCA(n_components=10)\n",
    "pc.fit(X)\n",
    "pc.explained_variance_ratio_.sum()\n",
    "X_pc=pc.transform(X)\n",
    "X_pc_test=pc.transform(test_X)"
   ]
  },
  {
   "cell_type": "code",
   "execution_count": 33,
   "id": "ca484de6-b3be-4696-a211-eccd4ed37f81",
   "metadata": {},
   "outputs": [
    {
     "data": {
      "text/plain": [
       "0.6763636363636364"
      ]
     },
     "execution_count": 33,
     "metadata": {},
     "output_type": "execute_result"
    }
   ],
   "source": [
    "des=DecisionTreeClassifier(max_depth=6)\n",
    "des.fit(X_pc,y)\n",
    "y_pred=des.predict(X_pc_test)\n",
    "accuracy_score(y_pred,test_y)"
   ]
  },
  {
   "cell_type": "code",
   "execution_count": 34,
   "id": "470746da-fd53-4d59-83e0-f4d6b3f89591",
   "metadata": {},
   "outputs": [
    {
     "name": "stdout",
     "output_type": "stream",
     "text": [
      "🏃 View run abundant-stork-340 at: https://dagshub.com/pankaj-2708/You-tube-Comment-analysis.mlflow/#/experiments/1/runs/8e6f8b3afdb84c359f437f497fe76002\n",
      "🧪 View experiment at: https://dagshub.com/pankaj-2708/You-tube-Comment-analysis.mlflow/#/experiments/1\n"
     ]
    }
   ],
   "source": [
    "with mlflow.start_run():\n",
    "    mlflow.log_param(\"model\", \"descison tree\")\n",
    "    mlflow.log_param(\"max_depth\", \"6\")\n",
    "    mlflow.log_param(\"pca\", \"True\")\n",
    "    model_ = DecisionTreeClassifier(max_depth=6)\n",
    "\n",
    "    model_.fit(X_pc, y)\n",
    "    pred_y = model_.predict(X_pc_test)\n",
    "\n",
    "    mlflow.log_metric(\"accuracy\", accuracy_score(test_y, pred_y))"
   ]
  },
  {
   "cell_type": "code",
   "execution_count": 45,
   "id": "8b1af1b8-8512-4e4f-8d68-6ac16de1707a",
   "metadata": {},
   "outputs": [
    {
     "data": {
      "text/plain": [
       "0.6732867132867133"
      ]
     },
     "execution_count": 45,
     "metadata": {},
     "output_type": "execute_result"
    }
   ],
   "source": [
    "des=RandomForestClassifier(max_depth=6,n_estimators=50,random_state=42,max_features=0.7,max_samples=0.7)\n",
    "des.fit(X,y)\n",
    "y_pred=des.predict(test_X)\n",
    "accuracy_score(y_pred,test_y)"
   ]
  },
  {
   "cell_type": "code",
   "execution_count": 46,
   "id": "fca1b94b-46ca-4e1d-af4e-0e31bcf947ce",
   "metadata": {},
   "outputs": [
    {
     "data": {
      "text/html": [
       "<div>            <script src=\"https://cdnjs.cloudflare.com/ajax/libs/mathjax/2.7.5/MathJax.js?config=TeX-AMS-MML_SVG\"></script><script type=\"text/javascript\">if (window.MathJax && window.MathJax.Hub && window.MathJax.Hub.Config) {window.MathJax.Hub.Config({SVG: {font: \"STIX-Web\"}});}</script>                    <div id=\"b598196a-a907-46fc-91ef-bad2a784baee\" class=\"plotly-graph-div\" style=\"height:525px; width:100%;\"></div>            <script type=\"text/javascript\">                window.PLOTLYENV=window.PLOTLYENV || {};                                if (document.getElementById(\"b598196a-a907-46fc-91ef-bad2a784baee\")) {                    Plotly.newPlot(                        \"b598196a-a907-46fc-91ef-bad2a784baee\",                        [{\"hovertemplate\":\"x=%{x}\\u003cbr\\u003ey=%{y}\\u003cextra\\u003e\\u003c\\u002fextra\\u003e\",\"legendgroup\":\"\",\"marker\":{\"color\":\"#636efa\",\"pattern\":{\"shape\":\"\"}},\"name\":\"\",\"orientation\":\"h\",\"showlegend\":false,\"textposition\":\"auto\",\"x\":[43.23837062055426,9.151642197767066,9.02969053795748,5.832147043703877,5.3842615120158115,5.044826983748586,3.6873812468607747,2.51325069276006,2.2725776557747115,1.374769894315959],\"xaxis\":\"x\",\"y\":[\"std__PositiveWordCount\",\"std__comment_len\",\"std__stopword_count\",\"remainder__like\",\"std__NegativeWordCount\",\"remainder__thank\",\"remainder__good\",\"remainder__love\",\"std__word_count\",\"std__char_per_words\"],\"yaxis\":\"y\",\"type\":\"bar\"}],                        {\"template\":{\"data\":{\"histogram2dcontour\":[{\"type\":\"histogram2dcontour\",\"colorbar\":{\"outlinewidth\":0,\"ticks\":\"\"},\"colorscale\":[[0.0,\"#0d0887\"],[0.1111111111111111,\"#46039f\"],[0.2222222222222222,\"#7201a8\"],[0.3333333333333333,\"#9c179e\"],[0.4444444444444444,\"#bd3786\"],[0.5555555555555556,\"#d8576b\"],[0.6666666666666666,\"#ed7953\"],[0.7777777777777778,\"#fb9f3a\"],[0.8888888888888888,\"#fdca26\"],[1.0,\"#f0f921\"]]}],\"choropleth\":[{\"type\":\"choropleth\",\"colorbar\":{\"outlinewidth\":0,\"ticks\":\"\"}}],\"histogram2d\":[{\"type\":\"histogram2d\",\"colorbar\":{\"outlinewidth\":0,\"ticks\":\"\"},\"colorscale\":[[0.0,\"#0d0887\"],[0.1111111111111111,\"#46039f\"],[0.2222222222222222,\"#7201a8\"],[0.3333333333333333,\"#9c179e\"],[0.4444444444444444,\"#bd3786\"],[0.5555555555555556,\"#d8576b\"],[0.6666666666666666,\"#ed7953\"],[0.7777777777777778,\"#fb9f3a\"],[0.8888888888888888,\"#fdca26\"],[1.0,\"#f0f921\"]]}],\"heatmap\":[{\"type\":\"heatmap\",\"colorbar\":{\"outlinewidth\":0,\"ticks\":\"\"},\"colorscale\":[[0.0,\"#0d0887\"],[0.1111111111111111,\"#46039f\"],[0.2222222222222222,\"#7201a8\"],[0.3333333333333333,\"#9c179e\"],[0.4444444444444444,\"#bd3786\"],[0.5555555555555556,\"#d8576b\"],[0.6666666666666666,\"#ed7953\"],[0.7777777777777778,\"#fb9f3a\"],[0.8888888888888888,\"#fdca26\"],[1.0,\"#f0f921\"]]}],\"contourcarpet\":[{\"type\":\"contourcarpet\",\"colorbar\":{\"outlinewidth\":0,\"ticks\":\"\"}}],\"contour\":[{\"type\":\"contour\",\"colorbar\":{\"outlinewidth\":0,\"ticks\":\"\"},\"colorscale\":[[0.0,\"#0d0887\"],[0.1111111111111111,\"#46039f\"],[0.2222222222222222,\"#7201a8\"],[0.3333333333333333,\"#9c179e\"],[0.4444444444444444,\"#bd3786\"],[0.5555555555555556,\"#d8576b\"],[0.6666666666666666,\"#ed7953\"],[0.7777777777777778,\"#fb9f3a\"],[0.8888888888888888,\"#fdca26\"],[1.0,\"#f0f921\"]]}],\"surface\":[{\"type\":\"surface\",\"colorbar\":{\"outlinewidth\":0,\"ticks\":\"\"},\"colorscale\":[[0.0,\"#0d0887\"],[0.1111111111111111,\"#46039f\"],[0.2222222222222222,\"#7201a8\"],[0.3333333333333333,\"#9c179e\"],[0.4444444444444444,\"#bd3786\"],[0.5555555555555556,\"#d8576b\"],[0.6666666666666666,\"#ed7953\"],[0.7777777777777778,\"#fb9f3a\"],[0.8888888888888888,\"#fdca26\"],[1.0,\"#f0f921\"]]}],\"mesh3d\":[{\"type\":\"mesh3d\",\"colorbar\":{\"outlinewidth\":0,\"ticks\":\"\"}}],\"scatter\":[{\"fillpattern\":{\"fillmode\":\"overlay\",\"size\":10,\"solidity\":0.2},\"type\":\"scatter\"}],\"parcoords\":[{\"type\":\"parcoords\",\"line\":{\"colorbar\":{\"outlinewidth\":0,\"ticks\":\"\"}}}],\"scatterpolargl\":[{\"type\":\"scatterpolargl\",\"marker\":{\"colorbar\":{\"outlinewidth\":0,\"ticks\":\"\"}}}],\"bar\":[{\"error_x\":{\"color\":\"#2a3f5f\"},\"error_y\":{\"color\":\"#2a3f5f\"},\"marker\":{\"line\":{\"color\":\"#E5ECF6\",\"width\":0.5},\"pattern\":{\"fillmode\":\"overlay\",\"size\":10,\"solidity\":0.2}},\"type\":\"bar\"}],\"scattergeo\":[{\"type\":\"scattergeo\",\"marker\":{\"colorbar\":{\"outlinewidth\":0,\"ticks\":\"\"}}}],\"scatterpolar\":[{\"type\":\"scatterpolar\",\"marker\":{\"colorbar\":{\"outlinewidth\":0,\"ticks\":\"\"}}}],\"histogram\":[{\"marker\":{\"pattern\":{\"fillmode\":\"overlay\",\"size\":10,\"solidity\":0.2}},\"type\":\"histogram\"}],\"scattergl\":[{\"type\":\"scattergl\",\"marker\":{\"colorbar\":{\"outlinewidth\":0,\"ticks\":\"\"}}}],\"scatter3d\":[{\"type\":\"scatter3d\",\"line\":{\"colorbar\":{\"outlinewidth\":0,\"ticks\":\"\"}},\"marker\":{\"colorbar\":{\"outlinewidth\":0,\"ticks\":\"\"}}}],\"scattermap\":[{\"type\":\"scattermap\",\"marker\":{\"colorbar\":{\"outlinewidth\":0,\"ticks\":\"\"}}}],\"scattermapbox\":[{\"type\":\"scattermapbox\",\"marker\":{\"colorbar\":{\"outlinewidth\":0,\"ticks\":\"\"}}}],\"scatterternary\":[{\"type\":\"scatterternary\",\"marker\":{\"colorbar\":{\"outlinewidth\":0,\"ticks\":\"\"}}}],\"scattercarpet\":[{\"type\":\"scattercarpet\",\"marker\":{\"colorbar\":{\"outlinewidth\":0,\"ticks\":\"\"}}}],\"carpet\":[{\"aaxis\":{\"endlinecolor\":\"#2a3f5f\",\"gridcolor\":\"white\",\"linecolor\":\"white\",\"minorgridcolor\":\"white\",\"startlinecolor\":\"#2a3f5f\"},\"baxis\":{\"endlinecolor\":\"#2a3f5f\",\"gridcolor\":\"white\",\"linecolor\":\"white\",\"minorgridcolor\":\"white\",\"startlinecolor\":\"#2a3f5f\"},\"type\":\"carpet\"}],\"table\":[{\"cells\":{\"fill\":{\"color\":\"#EBF0F8\"},\"line\":{\"color\":\"white\"}},\"header\":{\"fill\":{\"color\":\"#C8D4E3\"},\"line\":{\"color\":\"white\"}},\"type\":\"table\"}],\"barpolar\":[{\"marker\":{\"line\":{\"color\":\"#E5ECF6\",\"width\":0.5},\"pattern\":{\"fillmode\":\"overlay\",\"size\":10,\"solidity\":0.2}},\"type\":\"barpolar\"}],\"pie\":[{\"automargin\":true,\"type\":\"pie\"}]},\"layout\":{\"autotypenumbers\":\"strict\",\"colorway\":[\"#636efa\",\"#EF553B\",\"#00cc96\",\"#ab63fa\",\"#FFA15A\",\"#19d3f3\",\"#FF6692\",\"#B6E880\",\"#FF97FF\",\"#FECB52\"],\"font\":{\"color\":\"#2a3f5f\"},\"hovermode\":\"closest\",\"hoverlabel\":{\"align\":\"left\"},\"paper_bgcolor\":\"white\",\"plot_bgcolor\":\"#E5ECF6\",\"polar\":{\"bgcolor\":\"#E5ECF6\",\"angularaxis\":{\"gridcolor\":\"white\",\"linecolor\":\"white\",\"ticks\":\"\"},\"radialaxis\":{\"gridcolor\":\"white\",\"linecolor\":\"white\",\"ticks\":\"\"}},\"ternary\":{\"bgcolor\":\"#E5ECF6\",\"aaxis\":{\"gridcolor\":\"white\",\"linecolor\":\"white\",\"ticks\":\"\"},\"baxis\":{\"gridcolor\":\"white\",\"linecolor\":\"white\",\"ticks\":\"\"},\"caxis\":{\"gridcolor\":\"white\",\"linecolor\":\"white\",\"ticks\":\"\"}},\"coloraxis\":{\"colorbar\":{\"outlinewidth\":0,\"ticks\":\"\"}},\"colorscale\":{\"sequential\":[[0.0,\"#0d0887\"],[0.1111111111111111,\"#46039f\"],[0.2222222222222222,\"#7201a8\"],[0.3333333333333333,\"#9c179e\"],[0.4444444444444444,\"#bd3786\"],[0.5555555555555556,\"#d8576b\"],[0.6666666666666666,\"#ed7953\"],[0.7777777777777778,\"#fb9f3a\"],[0.8888888888888888,\"#fdca26\"],[1.0,\"#f0f921\"]],\"sequentialminus\":[[0.0,\"#0d0887\"],[0.1111111111111111,\"#46039f\"],[0.2222222222222222,\"#7201a8\"],[0.3333333333333333,\"#9c179e\"],[0.4444444444444444,\"#bd3786\"],[0.5555555555555556,\"#d8576b\"],[0.6666666666666666,\"#ed7953\"],[0.7777777777777778,\"#fb9f3a\"],[0.8888888888888888,\"#fdca26\"],[1.0,\"#f0f921\"]],\"diverging\":[[0,\"#8e0152\"],[0.1,\"#c51b7d\"],[0.2,\"#de77ae\"],[0.3,\"#f1b6da\"],[0.4,\"#fde0ef\"],[0.5,\"#f7f7f7\"],[0.6,\"#e6f5d0\"],[0.7,\"#b8e186\"],[0.8,\"#7fbc41\"],[0.9,\"#4d9221\"],[1,\"#276419\"]]},\"xaxis\":{\"gridcolor\":\"white\",\"linecolor\":\"white\",\"ticks\":\"\",\"title\":{\"standoff\":15},\"zerolinecolor\":\"white\",\"automargin\":true,\"zerolinewidth\":2},\"yaxis\":{\"gridcolor\":\"white\",\"linecolor\":\"white\",\"ticks\":\"\",\"title\":{\"standoff\":15},\"zerolinecolor\":\"white\",\"automargin\":true,\"zerolinewidth\":2},\"scene\":{\"xaxis\":{\"backgroundcolor\":\"#E5ECF6\",\"gridcolor\":\"white\",\"linecolor\":\"white\",\"showbackground\":true,\"ticks\":\"\",\"zerolinecolor\":\"white\",\"gridwidth\":2},\"yaxis\":{\"backgroundcolor\":\"#E5ECF6\",\"gridcolor\":\"white\",\"linecolor\":\"white\",\"showbackground\":true,\"ticks\":\"\",\"zerolinecolor\":\"white\",\"gridwidth\":2},\"zaxis\":{\"backgroundcolor\":\"#E5ECF6\",\"gridcolor\":\"white\",\"linecolor\":\"white\",\"showbackground\":true,\"ticks\":\"\",\"zerolinecolor\":\"white\",\"gridwidth\":2}},\"shapedefaults\":{\"line\":{\"color\":\"#2a3f5f\"}},\"annotationdefaults\":{\"arrowcolor\":\"#2a3f5f\",\"arrowhead\":0,\"arrowwidth\":1},\"geo\":{\"bgcolor\":\"white\",\"landcolor\":\"#E5ECF6\",\"subunitcolor\":\"white\",\"showland\":true,\"showlakes\":true,\"lakecolor\":\"white\"},\"title\":{\"x\":0.05},\"mapbox\":{\"style\":\"light\"}}},\"xaxis\":{\"anchor\":\"y\",\"domain\":[0.0,1.0],\"title\":{\"text\":\"x\"}},\"yaxis\":{\"anchor\":\"x\",\"domain\":[0.0,1.0],\"title\":{\"text\":\"y\"}},\"legend\":{\"tracegroupgap\":0},\"margin\":{\"t\":60},\"barmode\":\"relative\"},                        {\"responsive\": true}                    ).then(function(){\n",
       "                            \n",
       "var gd = document.getElementById('b598196a-a907-46fc-91ef-bad2a784baee');\n",
       "var x = new MutationObserver(function (mutations, observer) {{\n",
       "        var display = window.getComputedStyle(gd).display;\n",
       "        if (!display || display === 'none') {{\n",
       "            console.log([gd, 'removed!']);\n",
       "            Plotly.purge(gd);\n",
       "            observer.disconnect();\n",
       "        }}\n",
       "}});\n",
       "\n",
       "// Listen for the removal of the full notebook cells\n",
       "var notebookContainer = gd.closest('#notebook-container');\n",
       "if (notebookContainer) {{\n",
       "    x.observe(notebookContainer, {childList: true});\n",
       "}}\n",
       "\n",
       "// Listen for the clearing of the current output cell\n",
       "var outputEl = gd.closest('.output');\n",
       "if (outputEl) {{\n",
       "    x.observe(outputEl, {childList: true});\n",
       "}}\n",
       "\n",
       "                        })                };            </script>        </div>"
      ]
     },
     "metadata": {},
     "output_type": "display_data"
    }
   ],
   "source": [
    "feature_imp=pd.DataFrame(np.hstack((des.feature_importances_.reshape(len(des.feature_names_in_),1),des.feature_names_in_.reshape(len(des.feature_names_in_),1))),columns=['importance','name'])\n",
    "feature_imp_sorted=feature_imp.sort_values(by=\"importance\",ascending=False)\n",
    "feature_imp_sorted=feature_imp_sorted.head(10)\n",
    "px.bar(x=feature_imp_sorted[\"importance\"]*100,y=feature_imp_sorted['name'],orientation='h')"
   ]
  },
  {
   "cell_type": "code",
   "execution_count": 52,
   "id": "547ef3b9-9ae4-48a8-aa34-eba185f88d51",
   "metadata": {},
   "outputs": [
    {
     "name": "stdout",
     "output_type": "stream",
     "text": [
      "🏃 View run righteous-lamb-44 at: https://dagshub.com/pankaj-2708/You-tube-Comment-analysis.mlflow/#/experiments/1/runs/867f270eea0741729bd7127c307f054b\n",
      "🧪 View experiment at: https://dagshub.com/pankaj-2708/You-tube-Comment-analysis.mlflow/#/experiments/1\n"
     ]
    }
   ],
   "source": [
    "with mlflow.start_run():\n",
    "    mlflow.log_param(\"model\", \"random forest\")\n",
    "    model_ = RandomForestClassifier(max_depth=6,n_estimators=50,random_state=42,max_features=0.7,max_samples=0.7)\n",
    "    param=model_.get_params()\n",
    "    model_.fit(X, y)\n",
    "    for i in range(len(param)):\n",
    "        mlflow.log_param(list(param.keys())[i],list(param.values())[i])\n",
    "\n",
    "    pred_y = model_.predict(test_X)\n",
    "\n",
    "    mlflow.log_metric(\"accuracy\", accuracy_score(test_y, pred_y))"
   ]
  },
  {
   "cell_type": "code",
   "execution_count": 54,
   "id": "749d0c9a-0914-43b9-a75e-312c724ade46",
   "metadata": {},
   "outputs": [
    {
     "data": {
      "text/plain": [
       "(0.6833566433566434, 0.69499230661631)"
      ]
     },
     "execution_count": 54,
     "metadata": {},
     "output_type": "execute_result"
    }
   ],
   "source": [
    "des=RandomForestClassifier(max_depth=6,n_estimators=50,random_state=42,max_features=0.7,max_samples=0.7)\n",
    "des.fit(X_pc,y)\n",
    "y_pred=des.predict(X_pc_test)\n",
    "y_pred_train=des.predict(X_pc)\n",
    "accuracy_score(y_pred,test_y),accuracy_score(y_pred_train,y)"
   ]
  },
  {
   "cell_type": "code",
   "execution_count": 64,
   "id": "68cb5422-a669-4bee-9b95-3f76bee06001",
   "metadata": {},
   "outputs": [
    {
     "data": {
      "text/plain": [
       "(0.6173426573426574, 0.6349839138341027)"
      ]
     },
     "execution_count": 64,
     "metadata": {},
     "output_type": "execute_result"
    }
   ],
   "source": [
    "from imblearn.ensemble import BalancedRandomForestClassifier\n",
    "des=BalancedRandomForestClassifier(max_depth=8,n_estimators=40)\n",
    "des.fit(X,y)\n",
    "y_pred=des.predict(test_X)\n",
    "y_pred_train=des.predict(X)\n",
    "accuracy_score(y_pred,test_y),accuracy_score(y_pred_train,y)"
   ]
  },
  {
   "cell_type": "code",
   "execution_count": 74,
   "id": "2370fcc2-4cf9-4cd2-b1b1-0e23be7dbd64",
   "metadata": {},
   "outputs": [
    {
     "name": "stdout",
     "output_type": "stream",
     "text": [
      "🏃 View run vaunted-elk-244 at: https://dagshub.com/pankaj-2708/You-tube-Comment-analysis.mlflow/#/experiments/1/runs/609cfedf496945cf990c28c4ca921250\n",
      "🧪 View experiment at: https://dagshub.com/pankaj-2708/You-tube-Comment-analysis.mlflow/#/experiments/1\n"
     ]
    }
   ],
   "source": [
    "with mlflow.start_run():\n",
    "    mlflow.log_param(\"model\", \"balanced random forest\")\n",
    "    model_ = BalancedRandomForestClassifier(max_depth=8,n_estimators=40)\n",
    "    param=model_.get_params()\n",
    "    model_.fit(X, y)\n",
    "    for i in range(len(param)):\n",
    "        mlflow.log_param(list(param.keys())[i],list(param.values())[i])\n",
    "\n",
    "    pred_y = model_.predict(test_X)\n",
    "\n",
    "    mlflow.log_metric(\"accuracy\", accuracy_score(test_y, pred_y))"
   ]
  },
  {
   "cell_type": "code",
   "execution_count": 67,
   "id": "16d3b429-3a55-4140-ab11-47dadf5557bf",
   "metadata": {},
   "outputs": [
    {
     "data": {
      "text/plain": [
       "(0.7026573426573427, 0.7485662330395859)"
      ]
     },
     "execution_count": 67,
     "metadata": {},
     "output_type": "execute_result"
    }
   ],
   "source": [
    "des=GradientBoostingClassifier(max_depth=5,n_estimators=50)\n",
    "des.fit(X,y)\n",
    "y_pred=des.predict(test_X)\n",
    "y_pred_train=des.predict(X)\n",
    "accuracy_score(y_pred,test_y),accuracy_score(y_pred_train,y)"
   ]
  },
  {
   "cell_type": "code",
   "execution_count": 68,
   "id": "38919112-7144-436e-b3db-675d5a3d01e6",
   "metadata": {},
   "outputs": [
    {
     "data": {
      "text/html": [
       "<div>            <script src=\"https://cdnjs.cloudflare.com/ajax/libs/mathjax/2.7.5/MathJax.js?config=TeX-AMS-MML_SVG\"></script><script type=\"text/javascript\">if (window.MathJax && window.MathJax.Hub && window.MathJax.Hub.Config) {window.MathJax.Hub.Config({SVG: {font: \"STIX-Web\"}});}</script>                    <div id=\"0cb36ec8-7355-46ca-b395-7a0c805e18f7\" class=\"plotly-graph-div\" style=\"height:525px; width:100%;\"></div>            <script type=\"text/javascript\">                window.PLOTLYENV=window.PLOTLYENV || {};                                if (document.getElementById(\"0cb36ec8-7355-46ca-b395-7a0c805e18f7\")) {                    Plotly.newPlot(                        \"0cb36ec8-7355-46ca-b395-7a0c805e18f7\",                        [{\"hovertemplate\":\"x=%{x}\\u003cbr\\u003ey=%{y}\\u003cextra\\u003e\\u003c\\u002fextra\\u003e\",\"legendgroup\":\"\",\"marker\":{\"color\":\"#636efa\",\"pattern\":{\"shape\":\"\"}},\"name\":\"\",\"orientation\":\"h\",\"showlegend\":false,\"textposition\":\"auto\",\"x\":[33.079033000809446,8.367981757740983,7.339947557767766,4.371666232125349,4.016244591070221,3.1566677715587876,1.7283726432892352,1.7005383390103352,1.339431649008549,1.262240401949006],\"xaxis\":\"x\",\"y\":[\"std__PositiveWordCount\",\"std__comment_len\",\"std__stopword_count\",\"std__NegativeWordCount\",\"remainder__like\",\"remainder__good\",\"std__word_count\",\"std__char_per_words\",\"remainder__thank\",\"remainder__video\"],\"yaxis\":\"y\",\"type\":\"bar\"}],                        {\"template\":{\"data\":{\"histogram2dcontour\":[{\"type\":\"histogram2dcontour\",\"colorbar\":{\"outlinewidth\":0,\"ticks\":\"\"},\"colorscale\":[[0.0,\"#0d0887\"],[0.1111111111111111,\"#46039f\"],[0.2222222222222222,\"#7201a8\"],[0.3333333333333333,\"#9c179e\"],[0.4444444444444444,\"#bd3786\"],[0.5555555555555556,\"#d8576b\"],[0.6666666666666666,\"#ed7953\"],[0.7777777777777778,\"#fb9f3a\"],[0.8888888888888888,\"#fdca26\"],[1.0,\"#f0f921\"]]}],\"choropleth\":[{\"type\":\"choropleth\",\"colorbar\":{\"outlinewidth\":0,\"ticks\":\"\"}}],\"histogram2d\":[{\"type\":\"histogram2d\",\"colorbar\":{\"outlinewidth\":0,\"ticks\":\"\"},\"colorscale\":[[0.0,\"#0d0887\"],[0.1111111111111111,\"#46039f\"],[0.2222222222222222,\"#7201a8\"],[0.3333333333333333,\"#9c179e\"],[0.4444444444444444,\"#bd3786\"],[0.5555555555555556,\"#d8576b\"],[0.6666666666666666,\"#ed7953\"],[0.7777777777777778,\"#fb9f3a\"],[0.8888888888888888,\"#fdca26\"],[1.0,\"#f0f921\"]]}],\"heatmap\":[{\"type\":\"heatmap\",\"colorbar\":{\"outlinewidth\":0,\"ticks\":\"\"},\"colorscale\":[[0.0,\"#0d0887\"],[0.1111111111111111,\"#46039f\"],[0.2222222222222222,\"#7201a8\"],[0.3333333333333333,\"#9c179e\"],[0.4444444444444444,\"#bd3786\"],[0.5555555555555556,\"#d8576b\"],[0.6666666666666666,\"#ed7953\"],[0.7777777777777778,\"#fb9f3a\"],[0.8888888888888888,\"#fdca26\"],[1.0,\"#f0f921\"]]}],\"contourcarpet\":[{\"type\":\"contourcarpet\",\"colorbar\":{\"outlinewidth\":0,\"ticks\":\"\"}}],\"contour\":[{\"type\":\"contour\",\"colorbar\":{\"outlinewidth\":0,\"ticks\":\"\"},\"colorscale\":[[0.0,\"#0d0887\"],[0.1111111111111111,\"#46039f\"],[0.2222222222222222,\"#7201a8\"],[0.3333333333333333,\"#9c179e\"],[0.4444444444444444,\"#bd3786\"],[0.5555555555555556,\"#d8576b\"],[0.6666666666666666,\"#ed7953\"],[0.7777777777777778,\"#fb9f3a\"],[0.8888888888888888,\"#fdca26\"],[1.0,\"#f0f921\"]]}],\"surface\":[{\"type\":\"surface\",\"colorbar\":{\"outlinewidth\":0,\"ticks\":\"\"},\"colorscale\":[[0.0,\"#0d0887\"],[0.1111111111111111,\"#46039f\"],[0.2222222222222222,\"#7201a8\"],[0.3333333333333333,\"#9c179e\"],[0.4444444444444444,\"#bd3786\"],[0.5555555555555556,\"#d8576b\"],[0.6666666666666666,\"#ed7953\"],[0.7777777777777778,\"#fb9f3a\"],[0.8888888888888888,\"#fdca26\"],[1.0,\"#f0f921\"]]}],\"mesh3d\":[{\"type\":\"mesh3d\",\"colorbar\":{\"outlinewidth\":0,\"ticks\":\"\"}}],\"scatter\":[{\"fillpattern\":{\"fillmode\":\"overlay\",\"size\":10,\"solidity\":0.2},\"type\":\"scatter\"}],\"parcoords\":[{\"type\":\"parcoords\",\"line\":{\"colorbar\":{\"outlinewidth\":0,\"ticks\":\"\"}}}],\"scatterpolargl\":[{\"type\":\"scatterpolargl\",\"marker\":{\"colorbar\":{\"outlinewidth\":0,\"ticks\":\"\"}}}],\"bar\":[{\"error_x\":{\"color\":\"#2a3f5f\"},\"error_y\":{\"color\":\"#2a3f5f\"},\"marker\":{\"line\":{\"color\":\"#E5ECF6\",\"width\":0.5},\"pattern\":{\"fillmode\":\"overlay\",\"size\":10,\"solidity\":0.2}},\"type\":\"bar\"}],\"scattergeo\":[{\"type\":\"scattergeo\",\"marker\":{\"colorbar\":{\"outlinewidth\":0,\"ticks\":\"\"}}}],\"scatterpolar\":[{\"type\":\"scatterpolar\",\"marker\":{\"colorbar\":{\"outlinewidth\":0,\"ticks\":\"\"}}}],\"histogram\":[{\"marker\":{\"pattern\":{\"fillmode\":\"overlay\",\"size\":10,\"solidity\":0.2}},\"type\":\"histogram\"}],\"scattergl\":[{\"type\":\"scattergl\",\"marker\":{\"colorbar\":{\"outlinewidth\":0,\"ticks\":\"\"}}}],\"scatter3d\":[{\"type\":\"scatter3d\",\"line\":{\"colorbar\":{\"outlinewidth\":0,\"ticks\":\"\"}},\"marker\":{\"colorbar\":{\"outlinewidth\":0,\"ticks\":\"\"}}}],\"scattermap\":[{\"type\":\"scattermap\",\"marker\":{\"colorbar\":{\"outlinewidth\":0,\"ticks\":\"\"}}}],\"scattermapbox\":[{\"type\":\"scattermapbox\",\"marker\":{\"colorbar\":{\"outlinewidth\":0,\"ticks\":\"\"}}}],\"scatterternary\":[{\"type\":\"scatterternary\",\"marker\":{\"colorbar\":{\"outlinewidth\":0,\"ticks\":\"\"}}}],\"scattercarpet\":[{\"type\":\"scattercarpet\",\"marker\":{\"colorbar\":{\"outlinewidth\":0,\"ticks\":\"\"}}}],\"carpet\":[{\"aaxis\":{\"endlinecolor\":\"#2a3f5f\",\"gridcolor\":\"white\",\"linecolor\":\"white\",\"minorgridcolor\":\"white\",\"startlinecolor\":\"#2a3f5f\"},\"baxis\":{\"endlinecolor\":\"#2a3f5f\",\"gridcolor\":\"white\",\"linecolor\":\"white\",\"minorgridcolor\":\"white\",\"startlinecolor\":\"#2a3f5f\"},\"type\":\"carpet\"}],\"table\":[{\"cells\":{\"fill\":{\"color\":\"#EBF0F8\"},\"line\":{\"color\":\"white\"}},\"header\":{\"fill\":{\"color\":\"#C8D4E3\"},\"line\":{\"color\":\"white\"}},\"type\":\"table\"}],\"barpolar\":[{\"marker\":{\"line\":{\"color\":\"#E5ECF6\",\"width\":0.5},\"pattern\":{\"fillmode\":\"overlay\",\"size\":10,\"solidity\":0.2}},\"type\":\"barpolar\"}],\"pie\":[{\"automargin\":true,\"type\":\"pie\"}]},\"layout\":{\"autotypenumbers\":\"strict\",\"colorway\":[\"#636efa\",\"#EF553B\",\"#00cc96\",\"#ab63fa\",\"#FFA15A\",\"#19d3f3\",\"#FF6692\",\"#B6E880\",\"#FF97FF\",\"#FECB52\"],\"font\":{\"color\":\"#2a3f5f\"},\"hovermode\":\"closest\",\"hoverlabel\":{\"align\":\"left\"},\"paper_bgcolor\":\"white\",\"plot_bgcolor\":\"#E5ECF6\",\"polar\":{\"bgcolor\":\"#E5ECF6\",\"angularaxis\":{\"gridcolor\":\"white\",\"linecolor\":\"white\",\"ticks\":\"\"},\"radialaxis\":{\"gridcolor\":\"white\",\"linecolor\":\"white\",\"ticks\":\"\"}},\"ternary\":{\"bgcolor\":\"#E5ECF6\",\"aaxis\":{\"gridcolor\":\"white\",\"linecolor\":\"white\",\"ticks\":\"\"},\"baxis\":{\"gridcolor\":\"white\",\"linecolor\":\"white\",\"ticks\":\"\"},\"caxis\":{\"gridcolor\":\"white\",\"linecolor\":\"white\",\"ticks\":\"\"}},\"coloraxis\":{\"colorbar\":{\"outlinewidth\":0,\"ticks\":\"\"}},\"colorscale\":{\"sequential\":[[0.0,\"#0d0887\"],[0.1111111111111111,\"#46039f\"],[0.2222222222222222,\"#7201a8\"],[0.3333333333333333,\"#9c179e\"],[0.4444444444444444,\"#bd3786\"],[0.5555555555555556,\"#d8576b\"],[0.6666666666666666,\"#ed7953\"],[0.7777777777777778,\"#fb9f3a\"],[0.8888888888888888,\"#fdca26\"],[1.0,\"#f0f921\"]],\"sequentialminus\":[[0.0,\"#0d0887\"],[0.1111111111111111,\"#46039f\"],[0.2222222222222222,\"#7201a8\"],[0.3333333333333333,\"#9c179e\"],[0.4444444444444444,\"#bd3786\"],[0.5555555555555556,\"#d8576b\"],[0.6666666666666666,\"#ed7953\"],[0.7777777777777778,\"#fb9f3a\"],[0.8888888888888888,\"#fdca26\"],[1.0,\"#f0f921\"]],\"diverging\":[[0,\"#8e0152\"],[0.1,\"#c51b7d\"],[0.2,\"#de77ae\"],[0.3,\"#f1b6da\"],[0.4,\"#fde0ef\"],[0.5,\"#f7f7f7\"],[0.6,\"#e6f5d0\"],[0.7,\"#b8e186\"],[0.8,\"#7fbc41\"],[0.9,\"#4d9221\"],[1,\"#276419\"]]},\"xaxis\":{\"gridcolor\":\"white\",\"linecolor\":\"white\",\"ticks\":\"\",\"title\":{\"standoff\":15},\"zerolinecolor\":\"white\",\"automargin\":true,\"zerolinewidth\":2},\"yaxis\":{\"gridcolor\":\"white\",\"linecolor\":\"white\",\"ticks\":\"\",\"title\":{\"standoff\":15},\"zerolinecolor\":\"white\",\"automargin\":true,\"zerolinewidth\":2},\"scene\":{\"xaxis\":{\"backgroundcolor\":\"#E5ECF6\",\"gridcolor\":\"white\",\"linecolor\":\"white\",\"showbackground\":true,\"ticks\":\"\",\"zerolinecolor\":\"white\",\"gridwidth\":2},\"yaxis\":{\"backgroundcolor\":\"#E5ECF6\",\"gridcolor\":\"white\",\"linecolor\":\"white\",\"showbackground\":true,\"ticks\":\"\",\"zerolinecolor\":\"white\",\"gridwidth\":2},\"zaxis\":{\"backgroundcolor\":\"#E5ECF6\",\"gridcolor\":\"white\",\"linecolor\":\"white\",\"showbackground\":true,\"ticks\":\"\",\"zerolinecolor\":\"white\",\"gridwidth\":2}},\"shapedefaults\":{\"line\":{\"color\":\"#2a3f5f\"}},\"annotationdefaults\":{\"arrowcolor\":\"#2a3f5f\",\"arrowhead\":0,\"arrowwidth\":1},\"geo\":{\"bgcolor\":\"white\",\"landcolor\":\"#E5ECF6\",\"subunitcolor\":\"white\",\"showland\":true,\"showlakes\":true,\"lakecolor\":\"white\"},\"title\":{\"x\":0.05},\"mapbox\":{\"style\":\"light\"}}},\"xaxis\":{\"anchor\":\"y\",\"domain\":[0.0,1.0],\"title\":{\"text\":\"x\"}},\"yaxis\":{\"anchor\":\"x\",\"domain\":[0.0,1.0],\"title\":{\"text\":\"y\"}},\"legend\":{\"tracegroupgap\":0},\"margin\":{\"t\":60},\"barmode\":\"relative\"},                        {\"responsive\": true}                    ).then(function(){\n",
       "                            \n",
       "var gd = document.getElementById('0cb36ec8-7355-46ca-b395-7a0c805e18f7');\n",
       "var x = new MutationObserver(function (mutations, observer) {{\n",
       "        var display = window.getComputedStyle(gd).display;\n",
       "        if (!display || display === 'none') {{\n",
       "            console.log([gd, 'removed!']);\n",
       "            Plotly.purge(gd);\n",
       "            observer.disconnect();\n",
       "        }}\n",
       "}});\n",
       "\n",
       "// Listen for the removal of the full notebook cells\n",
       "var notebookContainer = gd.closest('#notebook-container');\n",
       "if (notebookContainer) {{\n",
       "    x.observe(notebookContainer, {childList: true});\n",
       "}}\n",
       "\n",
       "// Listen for the clearing of the current output cell\n",
       "var outputEl = gd.closest('.output');\n",
       "if (outputEl) {{\n",
       "    x.observe(outputEl, {childList: true});\n",
       "}}\n",
       "\n",
       "                        })                };            </script>        </div>"
      ]
     },
     "metadata": {},
     "output_type": "display_data"
    }
   ],
   "source": [
    "feature_imp=pd.DataFrame(np.hstack((des.feature_importances_.reshape(len(des.feature_names_in_),1),des.feature_names_in_.reshape(len(des.feature_names_in_),1))),columns=['importance','name'])\n",
    "feature_imp_sorted=feature_imp.sort_values(by=\"importance\",ascending=False)\n",
    "feature_imp_sorted=feature_imp_sorted.head(10)\n",
    "px.bar(x=feature_imp_sorted[\"importance\"]*100,y=feature_imp_sorted['name'],orientation='h')"
   ]
  },
  {
   "cell_type": "code",
   "execution_count": 70,
   "id": "7851ceff-95c6-4096-b76f-0f321ec38b95",
   "metadata": {},
   "outputs": [
    {
     "name": "stdout",
     "output_type": "stream",
     "text": [
      "🏃 View run welcoming-mink-569 at: https://dagshub.com/pankaj-2708/You-tube-Comment-analysis.mlflow/#/experiments/1/runs/be089d1503644232b7d72a9170efed6d\n",
      "🧪 View experiment at: https://dagshub.com/pankaj-2708/You-tube-Comment-analysis.mlflow/#/experiments/1\n"
     ]
    }
   ],
   "source": [
    "with mlflow.start_run():\n",
    "    mlflow.log_param(\"model\", \"gradient boosting\")\n",
    "    model_ = GradientBoostingClassifier(max_depth=5,n_estimators=50)\n",
    "    param=model_.get_params()\n",
    "    model_.fit(X, y)\n",
    "    for i in range(len(param)):\n",
    "        mlflow.log_param(list(param.keys())[i],list(param.values())[i])\n",
    "\n",
    "    pred_y = model_.predict(test_X)\n",
    "\n",
    "    mlflow.log_metric(\"accuracy\", accuracy_score(test_y, pred_y))"
   ]
  },
  {
   "cell_type": "code",
   "execution_count": 69,
   "id": "2b0ad00d-2cc1-4ca8-88dc-fd3ce80f3d0f",
   "metadata": {},
   "outputs": [
    {
     "data": {
      "text/plain": [
       "(0.6847552447552447, 0.7393341726115541)"
      ]
     },
     "execution_count": 69,
     "metadata": {},
     "output_type": "execute_result"
    }
   ],
   "source": [
    "des=GradientBoostingClassifier(max_depth=5,n_estimators=50)\n",
    "des.fit(X_pc,y)\n",
    "y_pred=des.predict(X_pc_test)\n",
    "y_pred_train=des.predict(X_pc)\n",
    "accuracy_score(y_pred,test_y),accuracy_score(y_pred_train,y)"
   ]
  },
  {
   "cell_type": "code",
   "execution_count": 71,
   "id": "f6dbcaad-b6dc-4622-89d8-efb613fa7cac",
   "metadata": {},
   "outputs": [
    {
     "name": "stdout",
     "output_type": "stream",
     "text": [
      "🏃 View run legendary-lark-276 at: https://dagshub.com/pankaj-2708/You-tube-Comment-analysis.mlflow/#/experiments/1/runs/f2692d9f938c415eb14be7a855e694f5\n",
      "🧪 View experiment at: https://dagshub.com/pankaj-2708/You-tube-Comment-analysis.mlflow/#/experiments/1\n"
     ]
    }
   ],
   "source": [
    "with mlflow.start_run():\n",
    "    mlflow.log_param(\"model\", \"gradient boosting\")\n",
    "    mlflow.log_param(\"pca\", \"True\")\n",
    "    model_ = GradientBoostingClassifier(max_depth=5,n_estimators=50)\n",
    "    param=model_.get_params()\n",
    "    model_.fit(X_pc, y)\n",
    "    for i in range(len(param)):\n",
    "        mlflow.log_param(list(param.keys())[i],list(param.values())[i])\n",
    "\n",
    "    pred_y = model_.predict(X_pc_test)\n",
    "\n",
    "    mlflow.log_metric(\"accuracy\", accuracy_score(test_y, pred_y))"
   ]
  },
  {
   "cell_type": "code",
   "execution_count": 84,
   "id": "86099a67-f9fd-413a-9e18-ecd6b775f8a9",
   "metadata": {},
   "outputs": [
    {
     "data": {
      "text/plain": [
       "(0.7197202797202797, 0.7652818576024619)"
      ]
     },
     "execution_count": 84,
     "metadata": {},
     "output_type": "execute_result"
    }
   ],
   "source": [
    "from xgboost import XGBClassifier\n",
    "des=XGBClassifier(max_depth=5,n_estimators=40,subsample=0.7,colsample_bytree=0.7)\n",
    "des.fit(X,y)\n",
    "y_pred=des.predict(test_X)\n",
    "y_pred_train=des.predict(X)\n",
    "accuracy_score(y_pred,test_y),accuracy_score(y_pred_train,y)"
   ]
  },
  {
   "cell_type": "code",
   "execution_count": 97,
   "id": "32cf50df-fee2-41b5-a557-7d47b787104d",
   "metadata": {
    "scrolled": true
   },
   "outputs": [
    {
     "data": {
      "text/html": [
       "<div>            <script src=\"https://cdnjs.cloudflare.com/ajax/libs/mathjax/2.7.5/MathJax.js?config=TeX-AMS-MML_SVG\"></script><script type=\"text/javascript\">if (window.MathJax && window.MathJax.Hub && window.MathJax.Hub.Config) {window.MathJax.Hub.Config({SVG: {font: \"STIX-Web\"}});}</script>                    <div id=\"4e479776-7ffb-4511-8688-e0f08bb0da72\" class=\"plotly-graph-div\" style=\"height:525px; width:100%;\"></div>            <script type=\"text/javascript\">                window.PLOTLYENV=window.PLOTLYENV || {};                                if (document.getElementById(\"4e479776-7ffb-4511-8688-e0f08bb0da72\")) {                    Plotly.newPlot(                        \"4e479776-7ffb-4511-8688-e0f08bb0da72\",                        [{\"hovertemplate\":\"x=%{x}\\u003cbr\\u003ey=%{y}\\u003cextra\\u003e\\u003c\\u002fextra\\u003e\",\"legendgroup\":\"\",\"marker\":{\"color\":\"#636efa\",\"pattern\":{\"shape\":\"\"}},\"name\":\"\",\"orientation\":\"h\",\"showlegend\":false,\"textposition\":\"auto\",\"x\":[\"1e-041e-041e-041e-041e-041e-041e-041e-041e-041e-041e-041e-041e-041e-041e-041e-041e-041e-041e-041e-041e-041e-041e-041e-041e-041e-041e-041e-041e-041e-041e-041e-041e-041e-041e-041e-041e-041e-041e-041e-041e-041e-041e-041e-041e-041e-041e-041e-041e-041e-041e-041e-041e-041e-041e-041e-041e-041e-041e-041e-041e-041e-041e-041e-041e-041e-041e-041e-041e-041e-041e-041e-041e-041e-041e-041e-041e-041e-041e-041e-041e-041e-041e-041e-041e-041e-041e-041e-041e-041e-041e-041e-041e-041e-041e-041e-041e-041e-041e-041e-04\",\"1e-041e-041e-041e-041e-041e-041e-041e-041e-041e-041e-041e-041e-041e-041e-041e-041e-041e-041e-041e-041e-041e-041e-041e-041e-041e-041e-041e-041e-041e-041e-041e-041e-041e-041e-041e-041e-041e-041e-041e-041e-041e-041e-041e-041e-041e-041e-041e-041e-041e-041e-041e-041e-041e-041e-041e-041e-041e-041e-041e-041e-041e-041e-041e-041e-041e-041e-041e-041e-041e-041e-041e-041e-041e-041e-041e-041e-041e-041e-041e-041e-041e-041e-041e-041e-041e-041e-041e-041e-041e-041e-041e-041e-041e-041e-041e-041e-041e-041e-041e-04\",\"0.02280.02280.02280.02280.02280.02280.02280.02280.02280.02280.02280.02280.02280.02280.02280.02280.02280.02280.02280.02280.02280.02280.02280.02280.02280.02280.02280.02280.02280.02280.02280.02280.02280.02280.02280.02280.02280.02280.02280.02280.02280.02280.02280.02280.02280.02280.02280.02280.02280.02280.02280.02280.02280.02280.02280.02280.02280.02280.02280.02280.02280.02280.02280.02280.02280.02280.02280.02280.02280.02280.02280.02280.02280.02280.02280.02280.02280.02280.02280.02280.02280.02280.02280.02280.02280.02280.02280.02280.02280.02280.02280.02280.02280.02280.02280.02280.02280.02280.02280.0228\",\"0.02060.02060.02060.02060.02060.02060.02060.02060.02060.02060.02060.02060.02060.02060.02060.02060.02060.02060.02060.02060.02060.02060.02060.02060.02060.02060.02060.02060.02060.02060.02060.02060.02060.02060.02060.02060.02060.02060.02060.02060.02060.02060.02060.02060.02060.02060.02060.02060.02060.02060.02060.02060.02060.02060.02060.02060.02060.02060.02060.02060.02060.02060.02060.02060.02060.02060.02060.02060.02060.02060.02060.02060.02060.02060.02060.02060.02060.02060.02060.02060.02060.02060.02060.02060.02060.02060.02060.02060.02060.02060.02060.02060.02060.02060.02060.02060.02060.02060.02060.0206\",\"0.01730.01730.01730.01730.01730.01730.01730.01730.01730.01730.01730.01730.01730.01730.01730.01730.01730.01730.01730.01730.01730.01730.01730.01730.01730.01730.01730.01730.01730.01730.01730.01730.01730.01730.01730.01730.01730.01730.01730.01730.01730.01730.01730.01730.01730.01730.01730.01730.01730.01730.01730.01730.01730.01730.01730.01730.01730.01730.01730.01730.01730.01730.01730.01730.01730.01730.01730.01730.01730.01730.01730.01730.01730.01730.01730.01730.01730.01730.01730.01730.01730.01730.01730.01730.01730.01730.01730.01730.01730.01730.01730.01730.01730.01730.01730.01730.01730.01730.01730.0173\",\"0.01480.01480.01480.01480.01480.01480.01480.01480.01480.01480.01480.01480.01480.01480.01480.01480.01480.01480.01480.01480.01480.01480.01480.01480.01480.01480.01480.01480.01480.01480.01480.01480.01480.01480.01480.01480.01480.01480.01480.01480.01480.01480.01480.01480.01480.01480.01480.01480.01480.01480.01480.01480.01480.01480.01480.01480.01480.01480.01480.01480.01480.01480.01480.01480.01480.01480.01480.01480.01480.01480.01480.01480.01480.01480.01480.01480.01480.01480.01480.01480.01480.01480.01480.01480.01480.01480.01480.01480.01480.01480.01480.01480.01480.01480.01480.01480.01480.01480.01480.0148\",\"0.01410.01410.01410.01410.01410.01410.01410.01410.01410.01410.01410.01410.01410.01410.01410.01410.01410.01410.01410.01410.01410.01410.01410.01410.01410.01410.01410.01410.01410.01410.01410.01410.01410.01410.01410.01410.01410.01410.01410.01410.01410.01410.01410.01410.01410.01410.01410.01410.01410.01410.01410.01410.01410.01410.01410.01410.01410.01410.01410.01410.01410.01410.01410.01410.01410.01410.01410.01410.01410.01410.01410.01410.01410.01410.01410.01410.01410.01410.01410.01410.01410.01410.01410.01410.01410.01410.01410.01410.01410.01410.01410.01410.01410.01410.01410.01410.01410.01410.01410.0141\",\"0.0110.0110.0110.0110.0110.0110.0110.0110.0110.0110.0110.0110.0110.0110.0110.0110.0110.0110.0110.0110.0110.0110.0110.0110.0110.0110.0110.0110.0110.0110.0110.0110.0110.0110.0110.0110.0110.0110.0110.0110.0110.0110.0110.0110.0110.0110.0110.0110.0110.0110.0110.0110.0110.0110.0110.0110.0110.0110.0110.0110.0110.0110.0110.0110.0110.0110.0110.0110.0110.0110.0110.0110.0110.0110.0110.0110.0110.0110.0110.0110.0110.0110.0110.0110.0110.0110.0110.0110.0110.0110.0110.0110.0110.0110.0110.0110.0110.0110.0110.011\",\"0.01050.01050.01050.01050.01050.01050.01050.01050.01050.01050.01050.01050.01050.01050.01050.01050.01050.01050.01050.01050.01050.01050.01050.01050.01050.01050.01050.01050.01050.01050.01050.01050.01050.01050.01050.01050.01050.01050.01050.01050.01050.01050.01050.01050.01050.01050.01050.01050.01050.01050.01050.01050.01050.01050.01050.01050.01050.01050.01050.01050.01050.01050.01050.01050.01050.01050.01050.01050.01050.01050.01050.01050.01050.01050.01050.01050.01050.01050.01050.01050.01050.01050.01050.01050.01050.01050.01050.01050.01050.01050.01050.01050.01050.01050.01050.01050.01050.01050.01050.0105\",\"0.010.010.010.010.010.010.010.010.010.010.010.010.010.010.010.010.010.010.010.010.010.010.010.010.010.010.010.010.010.010.010.010.010.010.010.010.010.010.010.010.010.010.010.010.010.010.010.010.010.010.010.010.010.010.010.010.010.010.010.010.010.010.010.010.010.010.010.010.010.010.010.010.010.010.010.010.010.010.010.010.010.010.010.010.010.010.010.010.010.010.010.010.010.010.010.010.010.010.010.01\"],\"xaxis\":\"x\",\"y\":[\"remainder__thought\",\"remainder__la\",\"std__PositiveWordCount\",\"remainder__thank\",\"remainder__love\",\"remainder__best\",\"remainder__amaz\",\"remainder__great\",\"remainder__appreci\",\"std__NegativeWordCount\"],\"yaxis\":\"y\",\"type\":\"bar\"}],                        {\"template\":{\"data\":{\"histogram2dcontour\":[{\"type\":\"histogram2dcontour\",\"colorbar\":{\"outlinewidth\":0,\"ticks\":\"\"},\"colorscale\":[[0.0,\"#0d0887\"],[0.1111111111111111,\"#46039f\"],[0.2222222222222222,\"#7201a8\"],[0.3333333333333333,\"#9c179e\"],[0.4444444444444444,\"#bd3786\"],[0.5555555555555556,\"#d8576b\"],[0.6666666666666666,\"#ed7953\"],[0.7777777777777778,\"#fb9f3a\"],[0.8888888888888888,\"#fdca26\"],[1.0,\"#f0f921\"]]}],\"choropleth\":[{\"type\":\"choropleth\",\"colorbar\":{\"outlinewidth\":0,\"ticks\":\"\"}}],\"histogram2d\":[{\"type\":\"histogram2d\",\"colorbar\":{\"outlinewidth\":0,\"ticks\":\"\"},\"colorscale\":[[0.0,\"#0d0887\"],[0.1111111111111111,\"#46039f\"],[0.2222222222222222,\"#7201a8\"],[0.3333333333333333,\"#9c179e\"],[0.4444444444444444,\"#bd3786\"],[0.5555555555555556,\"#d8576b\"],[0.6666666666666666,\"#ed7953\"],[0.7777777777777778,\"#fb9f3a\"],[0.8888888888888888,\"#fdca26\"],[1.0,\"#f0f921\"]]}],\"heatmap\":[{\"type\":\"heatmap\",\"colorbar\":{\"outlinewidth\":0,\"ticks\":\"\"},\"colorscale\":[[0.0,\"#0d0887\"],[0.1111111111111111,\"#46039f\"],[0.2222222222222222,\"#7201a8\"],[0.3333333333333333,\"#9c179e\"],[0.4444444444444444,\"#bd3786\"],[0.5555555555555556,\"#d8576b\"],[0.6666666666666666,\"#ed7953\"],[0.7777777777777778,\"#fb9f3a\"],[0.8888888888888888,\"#fdca26\"],[1.0,\"#f0f921\"]]}],\"contourcarpet\":[{\"type\":\"contourcarpet\",\"colorbar\":{\"outlinewidth\":0,\"ticks\":\"\"}}],\"contour\":[{\"type\":\"contour\",\"colorbar\":{\"outlinewidth\":0,\"ticks\":\"\"},\"colorscale\":[[0.0,\"#0d0887\"],[0.1111111111111111,\"#46039f\"],[0.2222222222222222,\"#7201a8\"],[0.3333333333333333,\"#9c179e\"],[0.4444444444444444,\"#bd3786\"],[0.5555555555555556,\"#d8576b\"],[0.6666666666666666,\"#ed7953\"],[0.7777777777777778,\"#fb9f3a\"],[0.8888888888888888,\"#fdca26\"],[1.0,\"#f0f921\"]]}],\"surface\":[{\"type\":\"surface\",\"colorbar\":{\"outlinewidth\":0,\"ticks\":\"\"},\"colorscale\":[[0.0,\"#0d0887\"],[0.1111111111111111,\"#46039f\"],[0.2222222222222222,\"#7201a8\"],[0.3333333333333333,\"#9c179e\"],[0.4444444444444444,\"#bd3786\"],[0.5555555555555556,\"#d8576b\"],[0.6666666666666666,\"#ed7953\"],[0.7777777777777778,\"#fb9f3a\"],[0.8888888888888888,\"#fdca26\"],[1.0,\"#f0f921\"]]}],\"mesh3d\":[{\"type\":\"mesh3d\",\"colorbar\":{\"outlinewidth\":0,\"ticks\":\"\"}}],\"scatter\":[{\"fillpattern\":{\"fillmode\":\"overlay\",\"size\":10,\"solidity\":0.2},\"type\":\"scatter\"}],\"parcoords\":[{\"type\":\"parcoords\",\"line\":{\"colorbar\":{\"outlinewidth\":0,\"ticks\":\"\"}}}],\"scatterpolargl\":[{\"type\":\"scatterpolargl\",\"marker\":{\"colorbar\":{\"outlinewidth\":0,\"ticks\":\"\"}}}],\"bar\":[{\"error_x\":{\"color\":\"#2a3f5f\"},\"error_y\":{\"color\":\"#2a3f5f\"},\"marker\":{\"line\":{\"color\":\"#E5ECF6\",\"width\":0.5},\"pattern\":{\"fillmode\":\"overlay\",\"size\":10,\"solidity\":0.2}},\"type\":\"bar\"}],\"scattergeo\":[{\"type\":\"scattergeo\",\"marker\":{\"colorbar\":{\"outlinewidth\":0,\"ticks\":\"\"}}}],\"scatterpolar\":[{\"type\":\"scatterpolar\",\"marker\":{\"colorbar\":{\"outlinewidth\":0,\"ticks\":\"\"}}}],\"histogram\":[{\"marker\":{\"pattern\":{\"fillmode\":\"overlay\",\"size\":10,\"solidity\":0.2}},\"type\":\"histogram\"}],\"scattergl\":[{\"type\":\"scattergl\",\"marker\":{\"colorbar\":{\"outlinewidth\":0,\"ticks\":\"\"}}}],\"scatter3d\":[{\"type\":\"scatter3d\",\"line\":{\"colorbar\":{\"outlinewidth\":0,\"ticks\":\"\"}},\"marker\":{\"colorbar\":{\"outlinewidth\":0,\"ticks\":\"\"}}}],\"scattermap\":[{\"type\":\"scattermap\",\"marker\":{\"colorbar\":{\"outlinewidth\":0,\"ticks\":\"\"}}}],\"scattermapbox\":[{\"type\":\"scattermapbox\",\"marker\":{\"colorbar\":{\"outlinewidth\":0,\"ticks\":\"\"}}}],\"scatterternary\":[{\"type\":\"scatterternary\",\"marker\":{\"colorbar\":{\"outlinewidth\":0,\"ticks\":\"\"}}}],\"scattercarpet\":[{\"type\":\"scattercarpet\",\"marker\":{\"colorbar\":{\"outlinewidth\":0,\"ticks\":\"\"}}}],\"carpet\":[{\"aaxis\":{\"endlinecolor\":\"#2a3f5f\",\"gridcolor\":\"white\",\"linecolor\":\"white\",\"minorgridcolor\":\"white\",\"startlinecolor\":\"#2a3f5f\"},\"baxis\":{\"endlinecolor\":\"#2a3f5f\",\"gridcolor\":\"white\",\"linecolor\":\"white\",\"minorgridcolor\":\"white\",\"startlinecolor\":\"#2a3f5f\"},\"type\":\"carpet\"}],\"table\":[{\"cells\":{\"fill\":{\"color\":\"#EBF0F8\"},\"line\":{\"color\":\"white\"}},\"header\":{\"fill\":{\"color\":\"#C8D4E3\"},\"line\":{\"color\":\"white\"}},\"type\":\"table\"}],\"barpolar\":[{\"marker\":{\"line\":{\"color\":\"#E5ECF6\",\"width\":0.5},\"pattern\":{\"fillmode\":\"overlay\",\"size\":10,\"solidity\":0.2}},\"type\":\"barpolar\"}],\"pie\":[{\"automargin\":true,\"type\":\"pie\"}]},\"layout\":{\"autotypenumbers\":\"strict\",\"colorway\":[\"#636efa\",\"#EF553B\",\"#00cc96\",\"#ab63fa\",\"#FFA15A\",\"#19d3f3\",\"#FF6692\",\"#B6E880\",\"#FF97FF\",\"#FECB52\"],\"font\":{\"color\":\"#2a3f5f\"},\"hovermode\":\"closest\",\"hoverlabel\":{\"align\":\"left\"},\"paper_bgcolor\":\"white\",\"plot_bgcolor\":\"#E5ECF6\",\"polar\":{\"bgcolor\":\"#E5ECF6\",\"angularaxis\":{\"gridcolor\":\"white\",\"linecolor\":\"white\",\"ticks\":\"\"},\"radialaxis\":{\"gridcolor\":\"white\",\"linecolor\":\"white\",\"ticks\":\"\"}},\"ternary\":{\"bgcolor\":\"#E5ECF6\",\"aaxis\":{\"gridcolor\":\"white\",\"linecolor\":\"white\",\"ticks\":\"\"},\"baxis\":{\"gridcolor\":\"white\",\"linecolor\":\"white\",\"ticks\":\"\"},\"caxis\":{\"gridcolor\":\"white\",\"linecolor\":\"white\",\"ticks\":\"\"}},\"coloraxis\":{\"colorbar\":{\"outlinewidth\":0,\"ticks\":\"\"}},\"colorscale\":{\"sequential\":[[0.0,\"#0d0887\"],[0.1111111111111111,\"#46039f\"],[0.2222222222222222,\"#7201a8\"],[0.3333333333333333,\"#9c179e\"],[0.4444444444444444,\"#bd3786\"],[0.5555555555555556,\"#d8576b\"],[0.6666666666666666,\"#ed7953\"],[0.7777777777777778,\"#fb9f3a\"],[0.8888888888888888,\"#fdca26\"],[1.0,\"#f0f921\"]],\"sequentialminus\":[[0.0,\"#0d0887\"],[0.1111111111111111,\"#46039f\"],[0.2222222222222222,\"#7201a8\"],[0.3333333333333333,\"#9c179e\"],[0.4444444444444444,\"#bd3786\"],[0.5555555555555556,\"#d8576b\"],[0.6666666666666666,\"#ed7953\"],[0.7777777777777778,\"#fb9f3a\"],[0.8888888888888888,\"#fdca26\"],[1.0,\"#f0f921\"]],\"diverging\":[[0,\"#8e0152\"],[0.1,\"#c51b7d\"],[0.2,\"#de77ae\"],[0.3,\"#f1b6da\"],[0.4,\"#fde0ef\"],[0.5,\"#f7f7f7\"],[0.6,\"#e6f5d0\"],[0.7,\"#b8e186\"],[0.8,\"#7fbc41\"],[0.9,\"#4d9221\"],[1,\"#276419\"]]},\"xaxis\":{\"gridcolor\":\"white\",\"linecolor\":\"white\",\"ticks\":\"\",\"title\":{\"standoff\":15},\"zerolinecolor\":\"white\",\"automargin\":true,\"zerolinewidth\":2},\"yaxis\":{\"gridcolor\":\"white\",\"linecolor\":\"white\",\"ticks\":\"\",\"title\":{\"standoff\":15},\"zerolinecolor\":\"white\",\"automargin\":true,\"zerolinewidth\":2},\"scene\":{\"xaxis\":{\"backgroundcolor\":\"#E5ECF6\",\"gridcolor\":\"white\",\"linecolor\":\"white\",\"showbackground\":true,\"ticks\":\"\",\"zerolinecolor\":\"white\",\"gridwidth\":2},\"yaxis\":{\"backgroundcolor\":\"#E5ECF6\",\"gridcolor\":\"white\",\"linecolor\":\"white\",\"showbackground\":true,\"ticks\":\"\",\"zerolinecolor\":\"white\",\"gridwidth\":2},\"zaxis\":{\"backgroundcolor\":\"#E5ECF6\",\"gridcolor\":\"white\",\"linecolor\":\"white\",\"showbackground\":true,\"ticks\":\"\",\"zerolinecolor\":\"white\",\"gridwidth\":2}},\"shapedefaults\":{\"line\":{\"color\":\"#2a3f5f\"}},\"annotationdefaults\":{\"arrowcolor\":\"#2a3f5f\",\"arrowhead\":0,\"arrowwidth\":1},\"geo\":{\"bgcolor\":\"white\",\"landcolor\":\"#E5ECF6\",\"subunitcolor\":\"white\",\"showland\":true,\"showlakes\":true,\"lakecolor\":\"white\"},\"title\":{\"x\":0.05},\"mapbox\":{\"style\":\"light\"}}},\"xaxis\":{\"anchor\":\"y\",\"domain\":[0.0,1.0],\"title\":{\"text\":\"x\"}},\"yaxis\":{\"anchor\":\"x\",\"domain\":[0.0,1.0],\"title\":{\"text\":\"y\"}},\"legend\":{\"tracegroupgap\":0},\"margin\":{\"t\":60},\"barmode\":\"relative\"},                        {\"responsive\": true}                    ).then(function(){\n",
       "                            \n",
       "var gd = document.getElementById('4e479776-7ffb-4511-8688-e0f08bb0da72');\n",
       "var x = new MutationObserver(function (mutations, observer) {{\n",
       "        var display = window.getComputedStyle(gd).display;\n",
       "        if (!display || display === 'none') {{\n",
       "            console.log([gd, 'removed!']);\n",
       "            Plotly.purge(gd);\n",
       "            observer.disconnect();\n",
       "        }}\n",
       "}});\n",
       "\n",
       "// Listen for the removal of the full notebook cells\n",
       "var notebookContainer = gd.closest('#notebook-container');\n",
       "if (notebookContainer) {{\n",
       "    x.observe(notebookContainer, {childList: true});\n",
       "}}\n",
       "\n",
       "// Listen for the clearing of the current output cell\n",
       "var outputEl = gd.closest('.output');\n",
       "if (outputEl) {{\n",
       "    x.observe(outputEl, {childList: true});\n",
       "}}\n",
       "\n",
       "                        })                };            </script>        </div>"
      ]
     },
     "metadata": {},
     "output_type": "display_data"
    }
   ],
   "source": [
    "feature_imp=pd.DataFrame(np.hstack((np.array([[round(i[0],4)] for i in des.feature_importances_.reshape(len(des.feature_names_in_),1)]),des.feature_names_in_.reshape(len(des.feature_names_in_),1))),columns=['importance','name'])\n",
    "feature_imp_sorted=feature_imp.sort_values(by=\"importance\",ascending=False)\n",
    "feature_imp_sorted=feature_imp_sorted.head(10)\n",
    "px.bar(x=feature_imp_sorted[\"importance\"]*100,y=feature_imp_sorted['name'],orientation='h')"
   ]
  },
  {
   "cell_type": "code",
   "execution_count": 85,
   "id": "d432e609-03d3-41ec-9e30-2edf7e5faed8",
   "metadata": {},
   "outputs": [
    {
     "name": "stdout",
     "output_type": "stream",
     "text": [
      "🏃 View run respected-mouse-261 at: https://dagshub.com/pankaj-2708/You-tube-Comment-analysis.mlflow/#/experiments/1/runs/cd91286c6f574f33a0bcacdf31da8ddf\n",
      "🧪 View experiment at: https://dagshub.com/pankaj-2708/You-tube-Comment-analysis.mlflow/#/experiments/1\n"
     ]
    }
   ],
   "source": [
    "with mlflow.start_run():\n",
    "    mlflow.log_param(\"model\", \"xgboost\")\n",
    "    model_ =XGBClassifier(max_depth=5,n_estimators=40,subsample=0.7,colsample_bytree=0.7)\n",
    "    param=model_.get_params()\n",
    "    model_.fit(X, y)\n",
    "    for i in range(len(param)):\n",
    "        mlflow.log_param(list(param.keys())[i],list(param.values())[i])\n",
    "\n",
    "    pred_y = model_.predict(test_X)\n",
    "    pred_y_train = model_.predict(X)\n",
    "\n",
    "    mlflow.log_metric(\"accuracy\", accuracy_score(test_y, pred_y))\n",
    "    mlflow.log_metric(\"accuracy_train\", accuracy_score(y, pred_y_train))"
   ]
  },
  {
   "cell_type": "code",
   "execution_count": 100,
   "id": "87fc6628-ab1b-4033-b472-0e247851c025",
   "metadata": {
    "scrolled": true
   },
   "outputs": [
    {
     "name": "stdout",
     "output_type": "stream",
     "text": [
      "🏃 View run agreeable-koi-547 at: https://dagshub.com/pankaj-2708/You-tube-Comment-analysis.mlflow/#/experiments/1/runs/0d424797d4b34005ade74e1eccbce56f\n",
      "🧪 View experiment at: https://dagshub.com/pankaj-2708/You-tube-Comment-analysis.mlflow/#/experiments/1\n"
     ]
    }
   ],
   "source": [
    "with mlflow.start_run():\n",
    "    mlflow.log_param(\"model\", \"xgboost\")\n",
    "    mlflow.log_param(\"pca\", \"True\")\n",
    "    model_ =XGBClassifier(max_depth=5,n_estimators=40,subsample=0.7,colsample_bytree=0.7)\n",
    "    param=model_.get_params()\n",
    "    model_.fit(X_pc, y)\n",
    "    for i in range(len(param)):\n",
    "        mlflow.log_param(list(param.keys())[i],list(param.values())[i])\n",
    "\n",
    "    pred_y = model_.predict(X_pc_test)\n",
    "    pred_y_train = model_.predict(X_pc)\n",
    "\n",
    "    mlflow.log_metric(\"accuracy\", accuracy_score(test_y, pred_y))\n",
    "    mlflow.log_metric(\"accuracy_train\", accuracy_score(y, pred_y_train))"
   ]
  },
  {
   "cell_type": "code",
   "execution_count": 101,
   "id": "09f0a2d6-b661-49df-9748-94de6dc579d6",
   "metadata": {},
   "outputs": [
    {
     "data": {
      "text/plain": [
       "(0.7227972027972028, 0.8151489718841796)"
      ]
     },
     "execution_count": 101,
     "metadata": {},
     "output_type": "execute_result"
    }
   ],
   "source": [
    "des=SVC()\n",
    "des.fit(X,y)\n",
    "y_pred=des.predict(test_X)\n",
    "y_pred_train=des.predict(X)\n",
    "accuracy_score(y_pred,test_y),accuracy_score(y_pred_train,y)"
   ]
  },
  {
   "cell_type": "code",
   "execution_count": null,
   "id": "bb949b57-0c2d-4389-85c6-10394d86c016",
   "metadata": {},
   "outputs": [],
   "source": [
    "with mlflow.start_run():\n",
    "    mlflow.log_param(\"model\", \"SVC\")\n",
    "    model_ =SVC()\n",
    "    param=model_.get_params()\n",
    "    model_.fit(X, y)\n",
    "    for i in range(len(param)):\n",
    "        mlflow.log_param(list(param.keys())[i],list(param.values())[i])\n",
    "\n",
    "    pred_y = model_.predict(test_X)\n",
    "    pred_y_train = model_.predict(X)\n",
    "\n",
    "    mlflow.log_metric(\"accuracy\", accuracy_score(test_y, pred_y))\n",
    "    mlflow.log_metric(\"accuracy_train\", accuracy_score(y, pred_y_train))"
   ]
  },
  {
   "cell_type": "code",
   "execution_count": null,
   "id": "48d82f33-90e0-480f-9b4b-efaaeed18bd9",
   "metadata": {},
   "outputs": [],
   "source": [
    "des=Li()\n",
    "des.fit(X,y)\n",
    "y_pred=des.predict(test_X)\n",
    "y_pred_train=des.predict(X)\n",
    "accuracy_score(y_pred,test_y),accuracy_score(y_pred_train,y)"
   ]
  },
  {
   "cell_type": "code",
   "execution_count": 1,
   "id": "f8089104-485f-4651-b64c-eb8c042eb311",
   "metadata": {},
   "outputs": [],
   "source": [
    "from tensorflow import keras\n",
    "from keras import Sequential\n",
    "from keras.layers import Dense,BatchNormalization,Dropout"
   ]
  },
  {
   "cell_type": "code",
   "execution_count": 4,
   "id": "3accbc26-f418-4c96-a6fc-def7b38a43bf",
   "metadata": {},
   "outputs": [
    {
     "data": {
      "text/plain": [
       "(26527, 2009)"
      ]
     },
     "execution_count": 4,
     "metadata": {},
     "output_type": "execute_result"
    }
   ],
   "source": [
    "train.shape"
   ]
  },
  {
   "cell_type": "code",
   "execution_count": 10,
   "id": "1949072f-ebd4-49ef-b081-2d96676b5e7b",
   "metadata": {},
   "outputs": [],
   "source": [
    "model=Sequential()\n",
    "model.add(Dense(128,activation='relu',input_shape=(None,2008)))\n",
    "model.add(Dense(64,activation='relu'))\n",
    "model.add(Dense(32,activation='relu'))\n",
    "model.add(Dense(3,activation='softmax'))\n",
    "model.compile(optimizer='Adam',metrics=\"accuracy\",loss=\"sparse_categorical_crossentropy\")"
   ]
  },
  {
   "cell_type": "code",
   "execution_count": 11,
   "id": "2ce83ff6-b6b1-4508-87cc-9a56d643e92d",
   "metadata": {},
   "outputs": [
    {
     "name": "stdout",
     "output_type": "stream",
     "text": [
      "Model: \"sequential_2\"\n",
      "_________________________________________________________________\n",
      " Layer (type)                Output Shape              Param #   \n",
      "=================================================================\n",
      " dense_4 (Dense)             (None, None, 128)         257152    \n",
      "                                                                 \n",
      " dense_5 (Dense)             (None, None, 64)          8256      \n",
      "                                                                 \n",
      " dense_6 (Dense)             (None, None, 32)          2080      \n",
      "                                                                 \n",
      " dense_7 (Dense)             (None, None, 3)           99        \n",
      "                                                                 \n",
      "=================================================================\n",
      "Total params: 267,587\n",
      "Trainable params: 267,587\n",
      "Non-trainable params: 0\n",
      "_________________________________________________________________\n"
     ]
    }
   ],
   "source": [
    "model.summary()"
   ]
  },
  {
   "cell_type": "code",
   "execution_count": 12,
   "id": "aa35bc4b-8fa6-426e-a63b-02ee8b56f3d7",
   "metadata": {
    "scrolled": true
   },
   "outputs": [
    {
     "name": "stdout",
     "output_type": "stream",
     "text": [
      "Epoch 1/10\n",
      "WARNING:tensorflow:Model was constructed with shape (None, None, 2008) for input KerasTensor(type_spec=TensorSpec(shape=(None, None, 2008), dtype=tf.float32, name='dense_4_input'), name='dense_4_input', description=\"created by layer 'dense_4_input'\"), but it was called on an input with incompatible shape (None, 2008).\n",
      "WARNING:tensorflow:Model was constructed with shape (None, None, 2008) for input KerasTensor(type_spec=TensorSpec(shape=(None, None, 2008), dtype=tf.float32, name='dense_4_input'), name='dense_4_input', description=\"created by layer 'dense_4_input'\"), but it was called on an input with incompatible shape (None, 2008).\n",
      "657/664 [============================>.] - ETA: 0s - loss: 0.6717 - accuracy: 0.7253WARNING:tensorflow:Model was constructed with shape (None, None, 2008) for input KerasTensor(type_spec=TensorSpec(shape=(None, None, 2008), dtype=tf.float32, name='dense_4_input'), name='dense_4_input', description=\"created by layer 'dense_4_input'\"), but it was called on an input with incompatible shape (None, 2008).\n",
      "664/664 [==============================] - 6s 7ms/step - loss: 0.6696 - accuracy: 0.7261 - val_loss: 0.4949 - val_accuracy: 0.8219\n",
      "Epoch 2/10\n",
      "664/664 [==============================] - 3s 5ms/step - loss: 0.3000 - accuracy: 0.8929 - val_loss: 0.3974 - val_accuracy: 0.8590\n",
      "Epoch 3/10\n",
      "664/664 [==============================] - 3s 5ms/step - loss: 0.1452 - accuracy: 0.9499 - val_loss: 0.4273 - val_accuracy: 0.8734\n",
      "Epoch 4/10\n",
      "664/664 [==============================] - 3s 5ms/step - loss: 0.0834 - accuracy: 0.9739 - val_loss: 0.5302 - val_accuracy: 0.8769\n",
      "Epoch 5/10\n",
      "664/664 [==============================] - 3s 5ms/step - loss: 0.0595 - accuracy: 0.9818 - val_loss: 0.5261 - val_accuracy: 0.8873\n",
      "Epoch 6/10\n",
      "664/664 [==============================] - 3s 5ms/step - loss: 0.0449 - accuracy: 0.9860 - val_loss: 0.6183 - val_accuracy: 0.8903\n",
      "Epoch 7/10\n",
      "664/664 [==============================] - 3s 5ms/step - loss: 0.0406 - accuracy: 0.9880 - val_loss: 0.7451 - val_accuracy: 0.8660\n",
      "Epoch 8/10\n",
      "664/664 [==============================] - 3s 5ms/step - loss: 0.0393 - accuracy: 0.9872 - val_loss: 0.6668 - val_accuracy: 0.8837\n",
      "Epoch 9/10\n",
      "664/664 [==============================] - 3s 5ms/step - loss: 0.0363 - accuracy: 0.9883 - val_loss: 0.7841 - val_accuracy: 0.8775\n",
      "Epoch 10/10\n",
      "664/664 [==============================] - 3s 5ms/step - loss: 0.0341 - accuracy: 0.9894 - val_loss: 0.7025 - val_accuracy: 0.8845\n"
     ]
    }
   ],
   "source": [
    "history=model.fit(X,y,validation_split=0.2,epochs=10)"
   ]
  },
  {
   "cell_type": "code",
   "execution_count": 17,
   "id": "fb8485fc-0d2f-438c-8935-bc483d88ee35",
   "metadata": {},
   "outputs": [
    {
     "data": {
      "text/plain": [
       "<matplotlib.legend.Legend at 0x1705f3ed250>"
      ]
     },
     "execution_count": 17,
     "metadata": {},
     "output_type": "execute_result"
    },
    {
     "data": {
      "image/png": "[encoded data removed]",
      "text/plain": [
       "<Figure size 640x480 with 1 Axes>"
      ]
     },
     "metadata": {},
     "output_type": "display_data"
    }
   ],
   "source": [
    "import matplotlib.pyplot as plt\n",
    "pd.DataFrame(history.history)['accuracy'].plot(kind=\"line\")\n",
    "pd.DataFrame(history.history)['val_accuracy'].plot(kind=\"line\")\n",
    "plt.legend()"
   ]
  },
  {
   "cell_type": "code",
   "execution_count": null,
   "id": "36b9328b-f08e-4fce-a4ab-2d458d3ebf8d",
   "metadata": {},
   "outputs": [],
   "source": [
    "from sklearn.metrics import acc"
   ]
  },
  {
   "cell_type": "code",
   "execution_count": null,
   "id": "84c48d29-2415-46b1-b6ae-36995caee34e",
   "metadata": {},
   "outputs": [],
   "source": []
  }
 ],
 "metadata": {
  "kernelspec": {
   "display_name": "Python (dl_py_9)",
   "language": "python",
   "name": "dl_py_9"
  },
  "language_info": {
   "codemirror_mode": {
    "name": "ipython",
    "version": 3
   },
   "file_extension": ".py",
   "mimetype": "text/x-python",
   "name": "python",
   "nbconvert_exporter": "python",
   "pygments_lexer": "ipython3",
   "version": "3.9.23"
  }
 },
 "nbformat": 4,
 "nbformat_minor": 5
}
